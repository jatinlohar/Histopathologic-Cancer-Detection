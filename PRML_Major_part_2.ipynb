{
  "nbformat": 4,
  "nbformat_minor": 0,
  "metadata": {
    "colab": {
      "provenance": []
    },
    "kernelspec": {
      "name": "python3",
      "display_name": "Python 3"
    },
    "language_info": {
      "name": "python"
    },
    "widgets": {
      "application/vnd.jupyter.widget-state+json": {
        "28cb657044694c418bc3b1e05f04cf37": {
          "model_module": "@jupyter-widgets/controls",
          "model_name": "HBoxModel",
          "model_module_version": "1.5.0",
          "state": {
            "_dom_classes": [],
            "_model_module": "@jupyter-widgets/controls",
            "_model_module_version": "1.5.0",
            "_model_name": "HBoxModel",
            "_view_count": null,
            "_view_module": "@jupyter-widgets/controls",
            "_view_module_version": "1.5.0",
            "_view_name": "HBoxView",
            "box_style": "",
            "children": [
              "IPY_MODEL_6e6d3891956c45839d7426135e2ccf9d",
              "IPY_MODEL_06d3cd5b2dcb465d90fac3ec451f9acd",
              "IPY_MODEL_9936d4749e834bde854971e0e39cb607"
            ],
            "layout": "IPY_MODEL_c6778db9e98948bca82c3d290403d3fa"
          }
        },
        "6e6d3891956c45839d7426135e2ccf9d": {
          "model_module": "@jupyter-widgets/controls",
          "model_name": "HTMLModel",
          "model_module_version": "1.5.0",
          "state": {
            "_dom_classes": [],
            "_model_module": "@jupyter-widgets/controls",
            "_model_module_version": "1.5.0",
            "_model_name": "HTMLModel",
            "_view_count": null,
            "_view_module": "@jupyter-widgets/controls",
            "_view_module_version": "1.5.0",
            "_view_name": "HTMLView",
            "description": "",
            "description_tooltip": null,
            "layout": "IPY_MODEL_51af31d25df3472c865b3c9768e29145",
            "placeholder": "​",
            "style": "IPY_MODEL_93a7f68e193f4db4a9a1bf2b2efcb4fe",
            "value": "100%"
          }
        },
        "06d3cd5b2dcb465d90fac3ec451f9acd": {
          "model_module": "@jupyter-widgets/controls",
          "model_name": "FloatProgressModel",
          "model_module_version": "1.5.0",
          "state": {
            "_dom_classes": [],
            "_model_module": "@jupyter-widgets/controls",
            "_model_module_version": "1.5.0",
            "_model_name": "FloatProgressModel",
            "_view_count": null,
            "_view_module": "@jupyter-widgets/controls",
            "_view_module_version": "1.5.0",
            "_view_name": "ProgressView",
            "bar_style": "success",
            "description": "",
            "description_tooltip": null,
            "layout": "IPY_MODEL_e6cbb935327b4a899ba9147f69dbdee2",
            "max": 35,
            "min": 0,
            "orientation": "horizontal",
            "style": "IPY_MODEL_c22a75d03c504bc3a9756079b5472c62",
            "value": 35
          }
        },
        "9936d4749e834bde854971e0e39cb607": {
          "model_module": "@jupyter-widgets/controls",
          "model_name": "HTMLModel",
          "model_module_version": "1.5.0",
          "state": {
            "_dom_classes": [],
            "_model_module": "@jupyter-widgets/controls",
            "_model_module_version": "1.5.0",
            "_model_name": "HTMLModel",
            "_view_count": null,
            "_view_module": "@jupyter-widgets/controls",
            "_view_module_version": "1.5.0",
            "_view_name": "HTMLView",
            "description": "",
            "description_tooltip": null,
            "layout": "IPY_MODEL_29ecc4a07c814b13a21833fe9b1d972c",
            "placeholder": "​",
            "style": "IPY_MODEL_304fe9c8c9834127909c1043b99eeb9d",
            "value": " 35/35 [21:22&lt;00:00, 31.18s/it]"
          }
        },
        "c6778db9e98948bca82c3d290403d3fa": {
          "model_module": "@jupyter-widgets/base",
          "model_name": "LayoutModel",
          "model_module_version": "1.2.0",
          "state": {
            "_model_module": "@jupyter-widgets/base",
            "_model_module_version": "1.2.0",
            "_model_name": "LayoutModel",
            "_view_count": null,
            "_view_module": "@jupyter-widgets/base",
            "_view_module_version": "1.2.0",
            "_view_name": "LayoutView",
            "align_content": null,
            "align_items": null,
            "align_self": null,
            "border": null,
            "bottom": null,
            "display": null,
            "flex": null,
            "flex_flow": null,
            "grid_area": null,
            "grid_auto_columns": null,
            "grid_auto_flow": null,
            "grid_auto_rows": null,
            "grid_column": null,
            "grid_gap": null,
            "grid_row": null,
            "grid_template_areas": null,
            "grid_template_columns": null,
            "grid_template_rows": null,
            "height": null,
            "justify_content": null,
            "justify_items": null,
            "left": null,
            "margin": null,
            "max_height": null,
            "max_width": null,
            "min_height": null,
            "min_width": null,
            "object_fit": null,
            "object_position": null,
            "order": null,
            "overflow": null,
            "overflow_x": null,
            "overflow_y": null,
            "padding": null,
            "right": null,
            "top": null,
            "visibility": null,
            "width": null
          }
        },
        "51af31d25df3472c865b3c9768e29145": {
          "model_module": "@jupyter-widgets/base",
          "model_name": "LayoutModel",
          "model_module_version": "1.2.0",
          "state": {
            "_model_module": "@jupyter-widgets/base",
            "_model_module_version": "1.2.0",
            "_model_name": "LayoutModel",
            "_view_count": null,
            "_view_module": "@jupyter-widgets/base",
            "_view_module_version": "1.2.0",
            "_view_name": "LayoutView",
            "align_content": null,
            "align_items": null,
            "align_self": null,
            "border": null,
            "bottom": null,
            "display": null,
            "flex": null,
            "flex_flow": null,
            "grid_area": null,
            "grid_auto_columns": null,
            "grid_auto_flow": null,
            "grid_auto_rows": null,
            "grid_column": null,
            "grid_gap": null,
            "grid_row": null,
            "grid_template_areas": null,
            "grid_template_columns": null,
            "grid_template_rows": null,
            "height": null,
            "justify_content": null,
            "justify_items": null,
            "left": null,
            "margin": null,
            "max_height": null,
            "max_width": null,
            "min_height": null,
            "min_width": null,
            "object_fit": null,
            "object_position": null,
            "order": null,
            "overflow": null,
            "overflow_x": null,
            "overflow_y": null,
            "padding": null,
            "right": null,
            "top": null,
            "visibility": null,
            "width": null
          }
        },
        "93a7f68e193f4db4a9a1bf2b2efcb4fe": {
          "model_module": "@jupyter-widgets/controls",
          "model_name": "DescriptionStyleModel",
          "model_module_version": "1.5.0",
          "state": {
            "_model_module": "@jupyter-widgets/controls",
            "_model_module_version": "1.5.0",
            "_model_name": "DescriptionStyleModel",
            "_view_count": null,
            "_view_module": "@jupyter-widgets/base",
            "_view_module_version": "1.2.0",
            "_view_name": "StyleView",
            "description_width": ""
          }
        },
        "e6cbb935327b4a899ba9147f69dbdee2": {
          "model_module": "@jupyter-widgets/base",
          "model_name": "LayoutModel",
          "model_module_version": "1.2.0",
          "state": {
            "_model_module": "@jupyter-widgets/base",
            "_model_module_version": "1.2.0",
            "_model_name": "LayoutModel",
            "_view_count": null,
            "_view_module": "@jupyter-widgets/base",
            "_view_module_version": "1.2.0",
            "_view_name": "LayoutView",
            "align_content": null,
            "align_items": null,
            "align_self": null,
            "border": null,
            "bottom": null,
            "display": null,
            "flex": null,
            "flex_flow": null,
            "grid_area": null,
            "grid_auto_columns": null,
            "grid_auto_flow": null,
            "grid_auto_rows": null,
            "grid_column": null,
            "grid_gap": null,
            "grid_row": null,
            "grid_template_areas": null,
            "grid_template_columns": null,
            "grid_template_rows": null,
            "height": null,
            "justify_content": null,
            "justify_items": null,
            "left": null,
            "margin": null,
            "max_height": null,
            "max_width": null,
            "min_height": null,
            "min_width": null,
            "object_fit": null,
            "object_position": null,
            "order": null,
            "overflow": null,
            "overflow_x": null,
            "overflow_y": null,
            "padding": null,
            "right": null,
            "top": null,
            "visibility": null,
            "width": null
          }
        },
        "c22a75d03c504bc3a9756079b5472c62": {
          "model_module": "@jupyter-widgets/controls",
          "model_name": "ProgressStyleModel",
          "model_module_version": "1.5.0",
          "state": {
            "_model_module": "@jupyter-widgets/controls",
            "_model_module_version": "1.5.0",
            "_model_name": "ProgressStyleModel",
            "_view_count": null,
            "_view_module": "@jupyter-widgets/base",
            "_view_module_version": "1.2.0",
            "_view_name": "StyleView",
            "bar_color": null,
            "description_width": ""
          }
        },
        "29ecc4a07c814b13a21833fe9b1d972c": {
          "model_module": "@jupyter-widgets/base",
          "model_name": "LayoutModel",
          "model_module_version": "1.2.0",
          "state": {
            "_model_module": "@jupyter-widgets/base",
            "_model_module_version": "1.2.0",
            "_model_name": "LayoutModel",
            "_view_count": null,
            "_view_module": "@jupyter-widgets/base",
            "_view_module_version": "1.2.0",
            "_view_name": "LayoutView",
            "align_content": null,
            "align_items": null,
            "align_self": null,
            "border": null,
            "bottom": null,
            "display": null,
            "flex": null,
            "flex_flow": null,
            "grid_area": null,
            "grid_auto_columns": null,
            "grid_auto_flow": null,
            "grid_auto_rows": null,
            "grid_column": null,
            "grid_gap": null,
            "grid_row": null,
            "grid_template_areas": null,
            "grid_template_columns": null,
            "grid_template_rows": null,
            "height": null,
            "justify_content": null,
            "justify_items": null,
            "left": null,
            "margin": null,
            "max_height": null,
            "max_width": null,
            "min_height": null,
            "min_width": null,
            "object_fit": null,
            "object_position": null,
            "order": null,
            "overflow": null,
            "overflow_x": null,
            "overflow_y": null,
            "padding": null,
            "right": null,
            "top": null,
            "visibility": null,
            "width": null
          }
        },
        "304fe9c8c9834127909c1043b99eeb9d": {
          "model_module": "@jupyter-widgets/controls",
          "model_name": "DescriptionStyleModel",
          "model_module_version": "1.5.0",
          "state": {
            "_model_module": "@jupyter-widgets/controls",
            "_model_module_version": "1.5.0",
            "_model_name": "DescriptionStyleModel",
            "_view_count": null,
            "_view_module": "@jupyter-widgets/base",
            "_view_module_version": "1.2.0",
            "_view_name": "StyleView",
            "description_width": ""
          }
        },
        "61611d720f774e7ca0b57555876f8b63": {
          "model_module": "@jupyter-widgets/controls",
          "model_name": "HBoxModel",
          "model_module_version": "1.5.0",
          "state": {
            "_dom_classes": [],
            "_model_module": "@jupyter-widgets/controls",
            "_model_module_version": "1.5.0",
            "_model_name": "HBoxModel",
            "_view_count": null,
            "_view_module": "@jupyter-widgets/controls",
            "_view_module_version": "1.5.0",
            "_view_name": "HBoxView",
            "box_style": "",
            "children": [
              "IPY_MODEL_c7a824d5ce804615ba2cca2c4fc75512",
              "IPY_MODEL_6d255bd2dc4e413e97b08b1496683d21",
              "IPY_MODEL_ce7f49b2b9f345109638d5661f1fd363"
            ],
            "layout": "IPY_MODEL_587e9b4910fd4e02b66716b5ba473972"
          }
        },
        "c7a824d5ce804615ba2cca2c4fc75512": {
          "model_module": "@jupyter-widgets/controls",
          "model_name": "HTMLModel",
          "model_module_version": "1.5.0",
          "state": {
            "_dom_classes": [],
            "_model_module": "@jupyter-widgets/controls",
            "_model_module_version": "1.5.0",
            "_model_name": "HTMLModel",
            "_view_count": null,
            "_view_module": "@jupyter-widgets/controls",
            "_view_module_version": "1.5.0",
            "_view_name": "HTMLView",
            "description": "",
            "description_tooltip": null,
            "layout": "IPY_MODEL_f138d8a6e30343a790c097246ff3fe40",
            "placeholder": "​",
            "style": "IPY_MODEL_0a72cf7c906d423db67ecbfc936fa118",
            "value": "100%"
          }
        },
        "6d255bd2dc4e413e97b08b1496683d21": {
          "model_module": "@jupyter-widgets/controls",
          "model_name": "FloatProgressModel",
          "model_module_version": "1.5.0",
          "state": {
            "_dom_classes": [],
            "_model_module": "@jupyter-widgets/controls",
            "_model_module_version": "1.5.0",
            "_model_name": "FloatProgressModel",
            "_view_count": null,
            "_view_module": "@jupyter-widgets/controls",
            "_view_module_version": "1.5.0",
            "_view_name": "ProgressView",
            "bar_style": "success",
            "description": "",
            "description_tooltip": null,
            "layout": "IPY_MODEL_f07b5e380280442da2a5a775c900e6f7",
            "max": 18,
            "min": 0,
            "orientation": "horizontal",
            "style": "IPY_MODEL_1790f3ff6ee844a2b839290af0a90f71",
            "value": 18
          }
        },
        "ce7f49b2b9f345109638d5661f1fd363": {
          "model_module": "@jupyter-widgets/controls",
          "model_name": "HTMLModel",
          "model_module_version": "1.5.0",
          "state": {
            "_dom_classes": [],
            "_model_module": "@jupyter-widgets/controls",
            "_model_module_version": "1.5.0",
            "_model_name": "HTMLModel",
            "_view_count": null,
            "_view_module": "@jupyter-widgets/controls",
            "_view_module_version": "1.5.0",
            "_view_name": "HTMLView",
            "description": "",
            "description_tooltip": null,
            "layout": "IPY_MODEL_9c88446eb3674b6bad9f9cb4ea039110",
            "placeholder": "​",
            "style": "IPY_MODEL_ea34b5b2a7e049839df1ff5cb03432d8",
            "value": " 18/18 [02:17&lt;00:00,  6.27s/it]"
          }
        },
        "587e9b4910fd4e02b66716b5ba473972": {
          "model_module": "@jupyter-widgets/base",
          "model_name": "LayoutModel",
          "model_module_version": "1.2.0",
          "state": {
            "_model_module": "@jupyter-widgets/base",
            "_model_module_version": "1.2.0",
            "_model_name": "LayoutModel",
            "_view_count": null,
            "_view_module": "@jupyter-widgets/base",
            "_view_module_version": "1.2.0",
            "_view_name": "LayoutView",
            "align_content": null,
            "align_items": null,
            "align_self": null,
            "border": null,
            "bottom": null,
            "display": null,
            "flex": null,
            "flex_flow": null,
            "grid_area": null,
            "grid_auto_columns": null,
            "grid_auto_flow": null,
            "grid_auto_rows": null,
            "grid_column": null,
            "grid_gap": null,
            "grid_row": null,
            "grid_template_areas": null,
            "grid_template_columns": null,
            "grid_template_rows": null,
            "height": null,
            "justify_content": null,
            "justify_items": null,
            "left": null,
            "margin": null,
            "max_height": null,
            "max_width": null,
            "min_height": null,
            "min_width": null,
            "object_fit": null,
            "object_position": null,
            "order": null,
            "overflow": null,
            "overflow_x": null,
            "overflow_y": null,
            "padding": null,
            "right": null,
            "top": null,
            "visibility": null,
            "width": null
          }
        },
        "f138d8a6e30343a790c097246ff3fe40": {
          "model_module": "@jupyter-widgets/base",
          "model_name": "LayoutModel",
          "model_module_version": "1.2.0",
          "state": {
            "_model_module": "@jupyter-widgets/base",
            "_model_module_version": "1.2.0",
            "_model_name": "LayoutModel",
            "_view_count": null,
            "_view_module": "@jupyter-widgets/base",
            "_view_module_version": "1.2.0",
            "_view_name": "LayoutView",
            "align_content": null,
            "align_items": null,
            "align_self": null,
            "border": null,
            "bottom": null,
            "display": null,
            "flex": null,
            "flex_flow": null,
            "grid_area": null,
            "grid_auto_columns": null,
            "grid_auto_flow": null,
            "grid_auto_rows": null,
            "grid_column": null,
            "grid_gap": null,
            "grid_row": null,
            "grid_template_areas": null,
            "grid_template_columns": null,
            "grid_template_rows": null,
            "height": null,
            "justify_content": null,
            "justify_items": null,
            "left": null,
            "margin": null,
            "max_height": null,
            "max_width": null,
            "min_height": null,
            "min_width": null,
            "object_fit": null,
            "object_position": null,
            "order": null,
            "overflow": null,
            "overflow_x": null,
            "overflow_y": null,
            "padding": null,
            "right": null,
            "top": null,
            "visibility": null,
            "width": null
          }
        },
        "0a72cf7c906d423db67ecbfc936fa118": {
          "model_module": "@jupyter-widgets/controls",
          "model_name": "DescriptionStyleModel",
          "model_module_version": "1.5.0",
          "state": {
            "_model_module": "@jupyter-widgets/controls",
            "_model_module_version": "1.5.0",
            "_model_name": "DescriptionStyleModel",
            "_view_count": null,
            "_view_module": "@jupyter-widgets/base",
            "_view_module_version": "1.2.0",
            "_view_name": "StyleView",
            "description_width": ""
          }
        },
        "f07b5e380280442da2a5a775c900e6f7": {
          "model_module": "@jupyter-widgets/base",
          "model_name": "LayoutModel",
          "model_module_version": "1.2.0",
          "state": {
            "_model_module": "@jupyter-widgets/base",
            "_model_module_version": "1.2.0",
            "_model_name": "LayoutModel",
            "_view_count": null,
            "_view_module": "@jupyter-widgets/base",
            "_view_module_version": "1.2.0",
            "_view_name": "LayoutView",
            "align_content": null,
            "align_items": null,
            "align_self": null,
            "border": null,
            "bottom": null,
            "display": null,
            "flex": null,
            "flex_flow": null,
            "grid_area": null,
            "grid_auto_columns": null,
            "grid_auto_flow": null,
            "grid_auto_rows": null,
            "grid_column": null,
            "grid_gap": null,
            "grid_row": null,
            "grid_template_areas": null,
            "grid_template_columns": null,
            "grid_template_rows": null,
            "height": null,
            "justify_content": null,
            "justify_items": null,
            "left": null,
            "margin": null,
            "max_height": null,
            "max_width": null,
            "min_height": null,
            "min_width": null,
            "object_fit": null,
            "object_position": null,
            "order": null,
            "overflow": null,
            "overflow_x": null,
            "overflow_y": null,
            "padding": null,
            "right": null,
            "top": null,
            "visibility": null,
            "width": null
          }
        },
        "1790f3ff6ee844a2b839290af0a90f71": {
          "model_module": "@jupyter-widgets/controls",
          "model_name": "ProgressStyleModel",
          "model_module_version": "1.5.0",
          "state": {
            "_model_module": "@jupyter-widgets/controls",
            "_model_module_version": "1.5.0",
            "_model_name": "ProgressStyleModel",
            "_view_count": null,
            "_view_module": "@jupyter-widgets/base",
            "_view_module_version": "1.2.0",
            "_view_name": "StyleView",
            "bar_color": null,
            "description_width": ""
          }
        },
        "9c88446eb3674b6bad9f9cb4ea039110": {
          "model_module": "@jupyter-widgets/base",
          "model_name": "LayoutModel",
          "model_module_version": "1.2.0",
          "state": {
            "_model_module": "@jupyter-widgets/base",
            "_model_module_version": "1.2.0",
            "_model_name": "LayoutModel",
            "_view_count": null,
            "_view_module": "@jupyter-widgets/base",
            "_view_module_version": "1.2.0",
            "_view_name": "LayoutView",
            "align_content": null,
            "align_items": null,
            "align_self": null,
            "border": null,
            "bottom": null,
            "display": null,
            "flex": null,
            "flex_flow": null,
            "grid_area": null,
            "grid_auto_columns": null,
            "grid_auto_flow": null,
            "grid_auto_rows": null,
            "grid_column": null,
            "grid_gap": null,
            "grid_row": null,
            "grid_template_areas": null,
            "grid_template_columns": null,
            "grid_template_rows": null,
            "height": null,
            "justify_content": null,
            "justify_items": null,
            "left": null,
            "margin": null,
            "max_height": null,
            "max_width": null,
            "min_height": null,
            "min_width": null,
            "object_fit": null,
            "object_position": null,
            "order": null,
            "overflow": null,
            "overflow_x": null,
            "overflow_y": null,
            "padding": null,
            "right": null,
            "top": null,
            "visibility": null,
            "width": null
          }
        },
        "ea34b5b2a7e049839df1ff5cb03432d8": {
          "model_module": "@jupyter-widgets/controls",
          "model_name": "DescriptionStyleModel",
          "model_module_version": "1.5.0",
          "state": {
            "_model_module": "@jupyter-widgets/controls",
            "_model_module_version": "1.5.0",
            "_model_name": "DescriptionStyleModel",
            "_view_count": null,
            "_view_module": "@jupyter-widgets/base",
            "_view_module_version": "1.2.0",
            "_view_name": "StyleView",
            "description_width": ""
          }
        },
        "f79ae64452394792beb7f9288e753e1c": {
          "model_module": "@jupyter-widgets/controls",
          "model_name": "HBoxModel",
          "model_module_version": "1.5.0",
          "state": {
            "_dom_classes": [],
            "_model_module": "@jupyter-widgets/controls",
            "_model_module_version": "1.5.0",
            "_model_name": "HBoxModel",
            "_view_count": null,
            "_view_module": "@jupyter-widgets/controls",
            "_view_module_version": "1.5.0",
            "_view_name": "HBoxView",
            "box_style": "",
            "children": [
              "IPY_MODEL_bb05b629b7fe446599c3f7b606c34c17",
              "IPY_MODEL_379757adb2d445ddbd371b26ffb7729f",
              "IPY_MODEL_eb7f92200b8a494fa8a2d45f97b0425a"
            ],
            "layout": "IPY_MODEL_0ca80cb1452f40dcba3575a475ecf909"
          }
        },
        "bb05b629b7fe446599c3f7b606c34c17": {
          "model_module": "@jupyter-widgets/controls",
          "model_name": "HTMLModel",
          "model_module_version": "1.5.0",
          "state": {
            "_dom_classes": [],
            "_model_module": "@jupyter-widgets/controls",
            "_model_module_version": "1.5.0",
            "_model_name": "HTMLModel",
            "_view_count": null,
            "_view_module": "@jupyter-widgets/controls",
            "_view_module_version": "1.5.0",
            "_view_name": "HTMLView",
            "description": "",
            "description_tooltip": null,
            "layout": "IPY_MODEL_223c5e21962c4bde8a77a3a9bda8ff26",
            "placeholder": "​",
            "style": "IPY_MODEL_6dda3cf9f32d4df2acbd03c261975db8",
            "value": "100%"
          }
        },
        "379757adb2d445ddbd371b26ffb7729f": {
          "model_module": "@jupyter-widgets/controls",
          "model_name": "FloatProgressModel",
          "model_module_version": "1.5.0",
          "state": {
            "_dom_classes": [],
            "_model_module": "@jupyter-widgets/controls",
            "_model_module_version": "1.5.0",
            "_model_name": "FloatProgressModel",
            "_view_count": null,
            "_view_module": "@jupyter-widgets/controls",
            "_view_module_version": "1.5.0",
            "_view_name": "ProgressView",
            "bar_style": "success",
            "description": "",
            "description_tooltip": null,
            "layout": "IPY_MODEL_65f3eada7d6b4285bb4acd8f61784bb7",
            "max": 35,
            "min": 0,
            "orientation": "horizontal",
            "style": "IPY_MODEL_0ca9daf229274c9788a92061ed26d48b",
            "value": 35
          }
        },
        "eb7f92200b8a494fa8a2d45f97b0425a": {
          "model_module": "@jupyter-widgets/controls",
          "model_name": "HTMLModel",
          "model_module_version": "1.5.0",
          "state": {
            "_dom_classes": [],
            "_model_module": "@jupyter-widgets/controls",
            "_model_module_version": "1.5.0",
            "_model_name": "HTMLModel",
            "_view_count": null,
            "_view_module": "@jupyter-widgets/controls",
            "_view_module_version": "1.5.0",
            "_view_name": "HTMLView",
            "description": "",
            "description_tooltip": null,
            "layout": "IPY_MODEL_c920bdbdfeca4a36a8684d2508f3d5b8",
            "placeholder": "​",
            "style": "IPY_MODEL_91e11b6f7f6d410cb6228d76d3652a2c",
            "value": " 35/35 [19:59&lt;00:00, 27.80s/it]"
          }
        },
        "0ca80cb1452f40dcba3575a475ecf909": {
          "model_module": "@jupyter-widgets/base",
          "model_name": "LayoutModel",
          "model_module_version": "1.2.0",
          "state": {
            "_model_module": "@jupyter-widgets/base",
            "_model_module_version": "1.2.0",
            "_model_name": "LayoutModel",
            "_view_count": null,
            "_view_module": "@jupyter-widgets/base",
            "_view_module_version": "1.2.0",
            "_view_name": "LayoutView",
            "align_content": null,
            "align_items": null,
            "align_self": null,
            "border": null,
            "bottom": null,
            "display": null,
            "flex": null,
            "flex_flow": null,
            "grid_area": null,
            "grid_auto_columns": null,
            "grid_auto_flow": null,
            "grid_auto_rows": null,
            "grid_column": null,
            "grid_gap": null,
            "grid_row": null,
            "grid_template_areas": null,
            "grid_template_columns": null,
            "grid_template_rows": null,
            "height": null,
            "justify_content": null,
            "justify_items": null,
            "left": null,
            "margin": null,
            "max_height": null,
            "max_width": null,
            "min_height": null,
            "min_width": null,
            "object_fit": null,
            "object_position": null,
            "order": null,
            "overflow": null,
            "overflow_x": null,
            "overflow_y": null,
            "padding": null,
            "right": null,
            "top": null,
            "visibility": null,
            "width": null
          }
        },
        "223c5e21962c4bde8a77a3a9bda8ff26": {
          "model_module": "@jupyter-widgets/base",
          "model_name": "LayoutModel",
          "model_module_version": "1.2.0",
          "state": {
            "_model_module": "@jupyter-widgets/base",
            "_model_module_version": "1.2.0",
            "_model_name": "LayoutModel",
            "_view_count": null,
            "_view_module": "@jupyter-widgets/base",
            "_view_module_version": "1.2.0",
            "_view_name": "LayoutView",
            "align_content": null,
            "align_items": null,
            "align_self": null,
            "border": null,
            "bottom": null,
            "display": null,
            "flex": null,
            "flex_flow": null,
            "grid_area": null,
            "grid_auto_columns": null,
            "grid_auto_flow": null,
            "grid_auto_rows": null,
            "grid_column": null,
            "grid_gap": null,
            "grid_row": null,
            "grid_template_areas": null,
            "grid_template_columns": null,
            "grid_template_rows": null,
            "height": null,
            "justify_content": null,
            "justify_items": null,
            "left": null,
            "margin": null,
            "max_height": null,
            "max_width": null,
            "min_height": null,
            "min_width": null,
            "object_fit": null,
            "object_position": null,
            "order": null,
            "overflow": null,
            "overflow_x": null,
            "overflow_y": null,
            "padding": null,
            "right": null,
            "top": null,
            "visibility": null,
            "width": null
          }
        },
        "6dda3cf9f32d4df2acbd03c261975db8": {
          "model_module": "@jupyter-widgets/controls",
          "model_name": "DescriptionStyleModel",
          "model_module_version": "1.5.0",
          "state": {
            "_model_module": "@jupyter-widgets/controls",
            "_model_module_version": "1.5.0",
            "_model_name": "DescriptionStyleModel",
            "_view_count": null,
            "_view_module": "@jupyter-widgets/base",
            "_view_module_version": "1.2.0",
            "_view_name": "StyleView",
            "description_width": ""
          }
        },
        "65f3eada7d6b4285bb4acd8f61784bb7": {
          "model_module": "@jupyter-widgets/base",
          "model_name": "LayoutModel",
          "model_module_version": "1.2.0",
          "state": {
            "_model_module": "@jupyter-widgets/base",
            "_model_module_version": "1.2.0",
            "_model_name": "LayoutModel",
            "_view_count": null,
            "_view_module": "@jupyter-widgets/base",
            "_view_module_version": "1.2.0",
            "_view_name": "LayoutView",
            "align_content": null,
            "align_items": null,
            "align_self": null,
            "border": null,
            "bottom": null,
            "display": null,
            "flex": null,
            "flex_flow": null,
            "grid_area": null,
            "grid_auto_columns": null,
            "grid_auto_flow": null,
            "grid_auto_rows": null,
            "grid_column": null,
            "grid_gap": null,
            "grid_row": null,
            "grid_template_areas": null,
            "grid_template_columns": null,
            "grid_template_rows": null,
            "height": null,
            "justify_content": null,
            "justify_items": null,
            "left": null,
            "margin": null,
            "max_height": null,
            "max_width": null,
            "min_height": null,
            "min_width": null,
            "object_fit": null,
            "object_position": null,
            "order": null,
            "overflow": null,
            "overflow_x": null,
            "overflow_y": null,
            "padding": null,
            "right": null,
            "top": null,
            "visibility": null,
            "width": null
          }
        },
        "0ca9daf229274c9788a92061ed26d48b": {
          "model_module": "@jupyter-widgets/controls",
          "model_name": "ProgressStyleModel",
          "model_module_version": "1.5.0",
          "state": {
            "_model_module": "@jupyter-widgets/controls",
            "_model_module_version": "1.5.0",
            "_model_name": "ProgressStyleModel",
            "_view_count": null,
            "_view_module": "@jupyter-widgets/base",
            "_view_module_version": "1.2.0",
            "_view_name": "StyleView",
            "bar_color": null,
            "description_width": ""
          }
        },
        "c920bdbdfeca4a36a8684d2508f3d5b8": {
          "model_module": "@jupyter-widgets/base",
          "model_name": "LayoutModel",
          "model_module_version": "1.2.0",
          "state": {
            "_model_module": "@jupyter-widgets/base",
            "_model_module_version": "1.2.0",
            "_model_name": "LayoutModel",
            "_view_count": null,
            "_view_module": "@jupyter-widgets/base",
            "_view_module_version": "1.2.0",
            "_view_name": "LayoutView",
            "align_content": null,
            "align_items": null,
            "align_self": null,
            "border": null,
            "bottom": null,
            "display": null,
            "flex": null,
            "flex_flow": null,
            "grid_area": null,
            "grid_auto_columns": null,
            "grid_auto_flow": null,
            "grid_auto_rows": null,
            "grid_column": null,
            "grid_gap": null,
            "grid_row": null,
            "grid_template_areas": null,
            "grid_template_columns": null,
            "grid_template_rows": null,
            "height": null,
            "justify_content": null,
            "justify_items": null,
            "left": null,
            "margin": null,
            "max_height": null,
            "max_width": null,
            "min_height": null,
            "min_width": null,
            "object_fit": null,
            "object_position": null,
            "order": null,
            "overflow": null,
            "overflow_x": null,
            "overflow_y": null,
            "padding": null,
            "right": null,
            "top": null,
            "visibility": null,
            "width": null
          }
        },
        "91e11b6f7f6d410cb6228d76d3652a2c": {
          "model_module": "@jupyter-widgets/controls",
          "model_name": "DescriptionStyleModel",
          "model_module_version": "1.5.0",
          "state": {
            "_model_module": "@jupyter-widgets/controls",
            "_model_module_version": "1.5.0",
            "_model_name": "DescriptionStyleModel",
            "_view_count": null,
            "_view_module": "@jupyter-widgets/base",
            "_view_module_version": "1.2.0",
            "_view_name": "StyleView",
            "description_width": ""
          }
        },
        "acf2b506ac2e4ed881ed2121e4032dbd": {
          "model_module": "@jupyter-widgets/controls",
          "model_name": "HBoxModel",
          "model_module_version": "1.5.0",
          "state": {
            "_dom_classes": [],
            "_model_module": "@jupyter-widgets/controls",
            "_model_module_version": "1.5.0",
            "_model_name": "HBoxModel",
            "_view_count": null,
            "_view_module": "@jupyter-widgets/controls",
            "_view_module_version": "1.5.0",
            "_view_name": "HBoxView",
            "box_style": "",
            "children": [
              "IPY_MODEL_60ed9cd6ddae42d3a5a79d07eca292bc",
              "IPY_MODEL_4f9ea4fe631e4ba5b78c09684da15db6",
              "IPY_MODEL_d8f4b99271f84e92aea52235a183b332"
            ],
            "layout": "IPY_MODEL_4708dc375c644f8fb2e30ad2f519ec2a"
          }
        },
        "60ed9cd6ddae42d3a5a79d07eca292bc": {
          "model_module": "@jupyter-widgets/controls",
          "model_name": "HTMLModel",
          "model_module_version": "1.5.0",
          "state": {
            "_dom_classes": [],
            "_model_module": "@jupyter-widgets/controls",
            "_model_module_version": "1.5.0",
            "_model_name": "HTMLModel",
            "_view_count": null,
            "_view_module": "@jupyter-widgets/controls",
            "_view_module_version": "1.5.0",
            "_view_name": "HTMLView",
            "description": "",
            "description_tooltip": null,
            "layout": "IPY_MODEL_1094f473b765452087178589991f9d79",
            "placeholder": "​",
            "style": "IPY_MODEL_b4b9f8a3831c47f49e5c2ace46c11f9c",
            "value": "100%"
          }
        },
        "4f9ea4fe631e4ba5b78c09684da15db6": {
          "model_module": "@jupyter-widgets/controls",
          "model_name": "FloatProgressModel",
          "model_module_version": "1.5.0",
          "state": {
            "_dom_classes": [],
            "_model_module": "@jupyter-widgets/controls",
            "_model_module_version": "1.5.0",
            "_model_name": "FloatProgressModel",
            "_view_count": null,
            "_view_module": "@jupyter-widgets/controls",
            "_view_module_version": "1.5.0",
            "_view_name": "ProgressView",
            "bar_style": "success",
            "description": "",
            "description_tooltip": null,
            "layout": "IPY_MODEL_2bc7cba818d64f0e8f1a6fd9e83c4342",
            "max": 18,
            "min": 0,
            "orientation": "horizontal",
            "style": "IPY_MODEL_fb6cb520d59b4e13b3813e7d85e6bedc",
            "value": 18
          }
        },
        "d8f4b99271f84e92aea52235a183b332": {
          "model_module": "@jupyter-widgets/controls",
          "model_name": "HTMLModel",
          "model_module_version": "1.5.0",
          "state": {
            "_dom_classes": [],
            "_model_module": "@jupyter-widgets/controls",
            "_model_module_version": "1.5.0",
            "_model_name": "HTMLModel",
            "_view_count": null,
            "_view_module": "@jupyter-widgets/controls",
            "_view_module_version": "1.5.0",
            "_view_name": "HTMLView",
            "description": "",
            "description_tooltip": null,
            "layout": "IPY_MODEL_0e541ed836d24465b47c44a8535659a3",
            "placeholder": "​",
            "style": "IPY_MODEL_76fba1db3b9d4d80b6f90d98c60652dd",
            "value": " 18/18 [01:58&lt;00:00,  5.11s/it]"
          }
        },
        "4708dc375c644f8fb2e30ad2f519ec2a": {
          "model_module": "@jupyter-widgets/base",
          "model_name": "LayoutModel",
          "model_module_version": "1.2.0",
          "state": {
            "_model_module": "@jupyter-widgets/base",
            "_model_module_version": "1.2.0",
            "_model_name": "LayoutModel",
            "_view_count": null,
            "_view_module": "@jupyter-widgets/base",
            "_view_module_version": "1.2.0",
            "_view_name": "LayoutView",
            "align_content": null,
            "align_items": null,
            "align_self": null,
            "border": null,
            "bottom": null,
            "display": null,
            "flex": null,
            "flex_flow": null,
            "grid_area": null,
            "grid_auto_columns": null,
            "grid_auto_flow": null,
            "grid_auto_rows": null,
            "grid_column": null,
            "grid_gap": null,
            "grid_row": null,
            "grid_template_areas": null,
            "grid_template_columns": null,
            "grid_template_rows": null,
            "height": null,
            "justify_content": null,
            "justify_items": null,
            "left": null,
            "margin": null,
            "max_height": null,
            "max_width": null,
            "min_height": null,
            "min_width": null,
            "object_fit": null,
            "object_position": null,
            "order": null,
            "overflow": null,
            "overflow_x": null,
            "overflow_y": null,
            "padding": null,
            "right": null,
            "top": null,
            "visibility": null,
            "width": null
          }
        },
        "1094f473b765452087178589991f9d79": {
          "model_module": "@jupyter-widgets/base",
          "model_name": "LayoutModel",
          "model_module_version": "1.2.0",
          "state": {
            "_model_module": "@jupyter-widgets/base",
            "_model_module_version": "1.2.0",
            "_model_name": "LayoutModel",
            "_view_count": null,
            "_view_module": "@jupyter-widgets/base",
            "_view_module_version": "1.2.0",
            "_view_name": "LayoutView",
            "align_content": null,
            "align_items": null,
            "align_self": null,
            "border": null,
            "bottom": null,
            "display": null,
            "flex": null,
            "flex_flow": null,
            "grid_area": null,
            "grid_auto_columns": null,
            "grid_auto_flow": null,
            "grid_auto_rows": null,
            "grid_column": null,
            "grid_gap": null,
            "grid_row": null,
            "grid_template_areas": null,
            "grid_template_columns": null,
            "grid_template_rows": null,
            "height": null,
            "justify_content": null,
            "justify_items": null,
            "left": null,
            "margin": null,
            "max_height": null,
            "max_width": null,
            "min_height": null,
            "min_width": null,
            "object_fit": null,
            "object_position": null,
            "order": null,
            "overflow": null,
            "overflow_x": null,
            "overflow_y": null,
            "padding": null,
            "right": null,
            "top": null,
            "visibility": null,
            "width": null
          }
        },
        "b4b9f8a3831c47f49e5c2ace46c11f9c": {
          "model_module": "@jupyter-widgets/controls",
          "model_name": "DescriptionStyleModel",
          "model_module_version": "1.5.0",
          "state": {
            "_model_module": "@jupyter-widgets/controls",
            "_model_module_version": "1.5.0",
            "_model_name": "DescriptionStyleModel",
            "_view_count": null,
            "_view_module": "@jupyter-widgets/base",
            "_view_module_version": "1.2.0",
            "_view_name": "StyleView",
            "description_width": ""
          }
        },
        "2bc7cba818d64f0e8f1a6fd9e83c4342": {
          "model_module": "@jupyter-widgets/base",
          "model_name": "LayoutModel",
          "model_module_version": "1.2.0",
          "state": {
            "_model_module": "@jupyter-widgets/base",
            "_model_module_version": "1.2.0",
            "_model_name": "LayoutModel",
            "_view_count": null,
            "_view_module": "@jupyter-widgets/base",
            "_view_module_version": "1.2.0",
            "_view_name": "LayoutView",
            "align_content": null,
            "align_items": null,
            "align_self": null,
            "border": null,
            "bottom": null,
            "display": null,
            "flex": null,
            "flex_flow": null,
            "grid_area": null,
            "grid_auto_columns": null,
            "grid_auto_flow": null,
            "grid_auto_rows": null,
            "grid_column": null,
            "grid_gap": null,
            "grid_row": null,
            "grid_template_areas": null,
            "grid_template_columns": null,
            "grid_template_rows": null,
            "height": null,
            "justify_content": null,
            "justify_items": null,
            "left": null,
            "margin": null,
            "max_height": null,
            "max_width": null,
            "min_height": null,
            "min_width": null,
            "object_fit": null,
            "object_position": null,
            "order": null,
            "overflow": null,
            "overflow_x": null,
            "overflow_y": null,
            "padding": null,
            "right": null,
            "top": null,
            "visibility": null,
            "width": null
          }
        },
        "fb6cb520d59b4e13b3813e7d85e6bedc": {
          "model_module": "@jupyter-widgets/controls",
          "model_name": "ProgressStyleModel",
          "model_module_version": "1.5.0",
          "state": {
            "_model_module": "@jupyter-widgets/controls",
            "_model_module_version": "1.5.0",
            "_model_name": "ProgressStyleModel",
            "_view_count": null,
            "_view_module": "@jupyter-widgets/base",
            "_view_module_version": "1.2.0",
            "_view_name": "StyleView",
            "bar_color": null,
            "description_width": ""
          }
        },
        "0e541ed836d24465b47c44a8535659a3": {
          "model_module": "@jupyter-widgets/base",
          "model_name": "LayoutModel",
          "model_module_version": "1.2.0",
          "state": {
            "_model_module": "@jupyter-widgets/base",
            "_model_module_version": "1.2.0",
            "_model_name": "LayoutModel",
            "_view_count": null,
            "_view_module": "@jupyter-widgets/base",
            "_view_module_version": "1.2.0",
            "_view_name": "LayoutView",
            "align_content": null,
            "align_items": null,
            "align_self": null,
            "border": null,
            "bottom": null,
            "display": null,
            "flex": null,
            "flex_flow": null,
            "grid_area": null,
            "grid_auto_columns": null,
            "grid_auto_flow": null,
            "grid_auto_rows": null,
            "grid_column": null,
            "grid_gap": null,
            "grid_row": null,
            "grid_template_areas": null,
            "grid_template_columns": null,
            "grid_template_rows": null,
            "height": null,
            "justify_content": null,
            "justify_items": null,
            "left": null,
            "margin": null,
            "max_height": null,
            "max_width": null,
            "min_height": null,
            "min_width": null,
            "object_fit": null,
            "object_position": null,
            "order": null,
            "overflow": null,
            "overflow_x": null,
            "overflow_y": null,
            "padding": null,
            "right": null,
            "top": null,
            "visibility": null,
            "width": null
          }
        },
        "76fba1db3b9d4d80b6f90d98c60652dd": {
          "model_module": "@jupyter-widgets/controls",
          "model_name": "DescriptionStyleModel",
          "model_module_version": "1.5.0",
          "state": {
            "_model_module": "@jupyter-widgets/controls",
            "_model_module_version": "1.5.0",
            "_model_name": "DescriptionStyleModel",
            "_view_count": null,
            "_view_module": "@jupyter-widgets/base",
            "_view_module_version": "1.2.0",
            "_view_name": "StyleView",
            "description_width": ""
          }
        },
        "67c548bf5bea4c7bb508628ed309eea1": {
          "model_module": "@jupyter-widgets/controls",
          "model_name": "HBoxModel",
          "model_module_version": "1.5.0",
          "state": {
            "_dom_classes": [],
            "_model_module": "@jupyter-widgets/controls",
            "_model_module_version": "1.5.0",
            "_model_name": "HBoxModel",
            "_view_count": null,
            "_view_module": "@jupyter-widgets/controls",
            "_view_module_version": "1.5.0",
            "_view_name": "HBoxView",
            "box_style": "",
            "children": [
              "IPY_MODEL_907ba058f2744322a368d4fe97452fd4",
              "IPY_MODEL_e3778f11fba34b0c89249499cba7fb8e",
              "IPY_MODEL_9005d44a3a814c51bd3e9fc265bfccbb"
            ],
            "layout": "IPY_MODEL_fbb6ea6ad0174095ba0924ce3e5cb604"
          }
        },
        "907ba058f2744322a368d4fe97452fd4": {
          "model_module": "@jupyter-widgets/controls",
          "model_name": "HTMLModel",
          "model_module_version": "1.5.0",
          "state": {
            "_dom_classes": [],
            "_model_module": "@jupyter-widgets/controls",
            "_model_module_version": "1.5.0",
            "_model_name": "HTMLModel",
            "_view_count": null,
            "_view_module": "@jupyter-widgets/controls",
            "_view_module_version": "1.5.0",
            "_view_name": "HTMLView",
            "description": "",
            "description_tooltip": null,
            "layout": "IPY_MODEL_dda228a512de47acb3715af081138ba5",
            "placeholder": "​",
            "style": "IPY_MODEL_bc51fee2503c4888ae20862dc53ffe91",
            "value": "100%"
          }
        },
        "e3778f11fba34b0c89249499cba7fb8e": {
          "model_module": "@jupyter-widgets/controls",
          "model_name": "FloatProgressModel",
          "model_module_version": "1.5.0",
          "state": {
            "_dom_classes": [],
            "_model_module": "@jupyter-widgets/controls",
            "_model_module_version": "1.5.0",
            "_model_name": "FloatProgressModel",
            "_view_count": null,
            "_view_module": "@jupyter-widgets/controls",
            "_view_module_version": "1.5.0",
            "_view_name": "ProgressView",
            "bar_style": "success",
            "description": "",
            "description_tooltip": null,
            "layout": "IPY_MODEL_29ef28f6efce43d7842d3ad82cc2cc2a",
            "max": 35,
            "min": 0,
            "orientation": "horizontal",
            "style": "IPY_MODEL_9b8285f33cde4805b866f6bbe3ff6fc9",
            "value": 35
          }
        },
        "9005d44a3a814c51bd3e9fc265bfccbb": {
          "model_module": "@jupyter-widgets/controls",
          "model_name": "HTMLModel",
          "model_module_version": "1.5.0",
          "state": {
            "_dom_classes": [],
            "_model_module": "@jupyter-widgets/controls",
            "_model_module_version": "1.5.0",
            "_model_name": "HTMLModel",
            "_view_count": null,
            "_view_module": "@jupyter-widgets/controls",
            "_view_module_version": "1.5.0",
            "_view_name": "HTMLView",
            "description": "",
            "description_tooltip": null,
            "layout": "IPY_MODEL_1166b71d9ded44c4994217ce638d4d27",
            "placeholder": "​",
            "style": "IPY_MODEL_4a252bef438a439284b7d7886352730b",
            "value": " 35/35 [19:42&lt;00:00, 28.77s/it]"
          }
        },
        "fbb6ea6ad0174095ba0924ce3e5cb604": {
          "model_module": "@jupyter-widgets/base",
          "model_name": "LayoutModel",
          "model_module_version": "1.2.0",
          "state": {
            "_model_module": "@jupyter-widgets/base",
            "_model_module_version": "1.2.0",
            "_model_name": "LayoutModel",
            "_view_count": null,
            "_view_module": "@jupyter-widgets/base",
            "_view_module_version": "1.2.0",
            "_view_name": "LayoutView",
            "align_content": null,
            "align_items": null,
            "align_self": null,
            "border": null,
            "bottom": null,
            "display": null,
            "flex": null,
            "flex_flow": null,
            "grid_area": null,
            "grid_auto_columns": null,
            "grid_auto_flow": null,
            "grid_auto_rows": null,
            "grid_column": null,
            "grid_gap": null,
            "grid_row": null,
            "grid_template_areas": null,
            "grid_template_columns": null,
            "grid_template_rows": null,
            "height": null,
            "justify_content": null,
            "justify_items": null,
            "left": null,
            "margin": null,
            "max_height": null,
            "max_width": null,
            "min_height": null,
            "min_width": null,
            "object_fit": null,
            "object_position": null,
            "order": null,
            "overflow": null,
            "overflow_x": null,
            "overflow_y": null,
            "padding": null,
            "right": null,
            "top": null,
            "visibility": null,
            "width": null
          }
        },
        "dda228a512de47acb3715af081138ba5": {
          "model_module": "@jupyter-widgets/base",
          "model_name": "LayoutModel",
          "model_module_version": "1.2.0",
          "state": {
            "_model_module": "@jupyter-widgets/base",
            "_model_module_version": "1.2.0",
            "_model_name": "LayoutModel",
            "_view_count": null,
            "_view_module": "@jupyter-widgets/base",
            "_view_module_version": "1.2.0",
            "_view_name": "LayoutView",
            "align_content": null,
            "align_items": null,
            "align_self": null,
            "border": null,
            "bottom": null,
            "display": null,
            "flex": null,
            "flex_flow": null,
            "grid_area": null,
            "grid_auto_columns": null,
            "grid_auto_flow": null,
            "grid_auto_rows": null,
            "grid_column": null,
            "grid_gap": null,
            "grid_row": null,
            "grid_template_areas": null,
            "grid_template_columns": null,
            "grid_template_rows": null,
            "height": null,
            "justify_content": null,
            "justify_items": null,
            "left": null,
            "margin": null,
            "max_height": null,
            "max_width": null,
            "min_height": null,
            "min_width": null,
            "object_fit": null,
            "object_position": null,
            "order": null,
            "overflow": null,
            "overflow_x": null,
            "overflow_y": null,
            "padding": null,
            "right": null,
            "top": null,
            "visibility": null,
            "width": null
          }
        },
        "bc51fee2503c4888ae20862dc53ffe91": {
          "model_module": "@jupyter-widgets/controls",
          "model_name": "DescriptionStyleModel",
          "model_module_version": "1.5.0",
          "state": {
            "_model_module": "@jupyter-widgets/controls",
            "_model_module_version": "1.5.0",
            "_model_name": "DescriptionStyleModel",
            "_view_count": null,
            "_view_module": "@jupyter-widgets/base",
            "_view_module_version": "1.2.0",
            "_view_name": "StyleView",
            "description_width": ""
          }
        },
        "29ef28f6efce43d7842d3ad82cc2cc2a": {
          "model_module": "@jupyter-widgets/base",
          "model_name": "LayoutModel",
          "model_module_version": "1.2.0",
          "state": {
            "_model_module": "@jupyter-widgets/base",
            "_model_module_version": "1.2.0",
            "_model_name": "LayoutModel",
            "_view_count": null,
            "_view_module": "@jupyter-widgets/base",
            "_view_module_version": "1.2.0",
            "_view_name": "LayoutView",
            "align_content": null,
            "align_items": null,
            "align_self": null,
            "border": null,
            "bottom": null,
            "display": null,
            "flex": null,
            "flex_flow": null,
            "grid_area": null,
            "grid_auto_columns": null,
            "grid_auto_flow": null,
            "grid_auto_rows": null,
            "grid_column": null,
            "grid_gap": null,
            "grid_row": null,
            "grid_template_areas": null,
            "grid_template_columns": null,
            "grid_template_rows": null,
            "height": null,
            "justify_content": null,
            "justify_items": null,
            "left": null,
            "margin": null,
            "max_height": null,
            "max_width": null,
            "min_height": null,
            "min_width": null,
            "object_fit": null,
            "object_position": null,
            "order": null,
            "overflow": null,
            "overflow_x": null,
            "overflow_y": null,
            "padding": null,
            "right": null,
            "top": null,
            "visibility": null,
            "width": null
          }
        },
        "9b8285f33cde4805b866f6bbe3ff6fc9": {
          "model_module": "@jupyter-widgets/controls",
          "model_name": "ProgressStyleModel",
          "model_module_version": "1.5.0",
          "state": {
            "_model_module": "@jupyter-widgets/controls",
            "_model_module_version": "1.5.0",
            "_model_name": "ProgressStyleModel",
            "_view_count": null,
            "_view_module": "@jupyter-widgets/base",
            "_view_module_version": "1.2.0",
            "_view_name": "StyleView",
            "bar_color": null,
            "description_width": ""
          }
        },
        "1166b71d9ded44c4994217ce638d4d27": {
          "model_module": "@jupyter-widgets/base",
          "model_name": "LayoutModel",
          "model_module_version": "1.2.0",
          "state": {
            "_model_module": "@jupyter-widgets/base",
            "_model_module_version": "1.2.0",
            "_model_name": "LayoutModel",
            "_view_count": null,
            "_view_module": "@jupyter-widgets/base",
            "_view_module_version": "1.2.0",
            "_view_name": "LayoutView",
            "align_content": null,
            "align_items": null,
            "align_self": null,
            "border": null,
            "bottom": null,
            "display": null,
            "flex": null,
            "flex_flow": null,
            "grid_area": null,
            "grid_auto_columns": null,
            "grid_auto_flow": null,
            "grid_auto_rows": null,
            "grid_column": null,
            "grid_gap": null,
            "grid_row": null,
            "grid_template_areas": null,
            "grid_template_columns": null,
            "grid_template_rows": null,
            "height": null,
            "justify_content": null,
            "justify_items": null,
            "left": null,
            "margin": null,
            "max_height": null,
            "max_width": null,
            "min_height": null,
            "min_width": null,
            "object_fit": null,
            "object_position": null,
            "order": null,
            "overflow": null,
            "overflow_x": null,
            "overflow_y": null,
            "padding": null,
            "right": null,
            "top": null,
            "visibility": null,
            "width": null
          }
        },
        "4a252bef438a439284b7d7886352730b": {
          "model_module": "@jupyter-widgets/controls",
          "model_name": "DescriptionStyleModel",
          "model_module_version": "1.5.0",
          "state": {
            "_model_module": "@jupyter-widgets/controls",
            "_model_module_version": "1.5.0",
            "_model_name": "DescriptionStyleModel",
            "_view_count": null,
            "_view_module": "@jupyter-widgets/base",
            "_view_module_version": "1.2.0",
            "_view_name": "StyleView",
            "description_width": ""
          }
        },
        "0d48b619bc2d4703937310de21cc429a": {
          "model_module": "@jupyter-widgets/controls",
          "model_name": "HBoxModel",
          "model_module_version": "1.5.0",
          "state": {
            "_dom_classes": [],
            "_model_module": "@jupyter-widgets/controls",
            "_model_module_version": "1.5.0",
            "_model_name": "HBoxModel",
            "_view_count": null,
            "_view_module": "@jupyter-widgets/controls",
            "_view_module_version": "1.5.0",
            "_view_name": "HBoxView",
            "box_style": "",
            "children": [
              "IPY_MODEL_118e8e9797b246ca935735ce36357717",
              "IPY_MODEL_ce7a90aa6dd44cdd8901b44eb180175c",
              "IPY_MODEL_012e4b5b9e9342f7a130cbbff45dfb88"
            ],
            "layout": "IPY_MODEL_c0a9623eea8d4fd3a9bd8bbdb4310122"
          }
        },
        "118e8e9797b246ca935735ce36357717": {
          "model_module": "@jupyter-widgets/controls",
          "model_name": "HTMLModel",
          "model_module_version": "1.5.0",
          "state": {
            "_dom_classes": [],
            "_model_module": "@jupyter-widgets/controls",
            "_model_module_version": "1.5.0",
            "_model_name": "HTMLModel",
            "_view_count": null,
            "_view_module": "@jupyter-widgets/controls",
            "_view_module_version": "1.5.0",
            "_view_name": "HTMLView",
            "description": "",
            "description_tooltip": null,
            "layout": "IPY_MODEL_5a553741ed5a4bb6bd16f645793d43be",
            "placeholder": "​",
            "style": "IPY_MODEL_e9f112e9a43f4538990aed09d0b78551",
            "value": "100%"
          }
        },
        "ce7a90aa6dd44cdd8901b44eb180175c": {
          "model_module": "@jupyter-widgets/controls",
          "model_name": "FloatProgressModel",
          "model_module_version": "1.5.0",
          "state": {
            "_dom_classes": [],
            "_model_module": "@jupyter-widgets/controls",
            "_model_module_version": "1.5.0",
            "_model_name": "FloatProgressModel",
            "_view_count": null,
            "_view_module": "@jupyter-widgets/controls",
            "_view_module_version": "1.5.0",
            "_view_name": "ProgressView",
            "bar_style": "success",
            "description": "",
            "description_tooltip": null,
            "layout": "IPY_MODEL_9e4f4a032650428799b94767d5eb79a5",
            "max": 18,
            "min": 0,
            "orientation": "horizontal",
            "style": "IPY_MODEL_07ecdc5735b54211927ee8d1d511493a",
            "value": 18
          }
        },
        "012e4b5b9e9342f7a130cbbff45dfb88": {
          "model_module": "@jupyter-widgets/controls",
          "model_name": "HTMLModel",
          "model_module_version": "1.5.0",
          "state": {
            "_dom_classes": [],
            "_model_module": "@jupyter-widgets/controls",
            "_model_module_version": "1.5.0",
            "_model_name": "HTMLModel",
            "_view_count": null,
            "_view_module": "@jupyter-widgets/controls",
            "_view_module_version": "1.5.0",
            "_view_name": "HTMLView",
            "description": "",
            "description_tooltip": null,
            "layout": "IPY_MODEL_a7e1f99d0ea84f57ab8a27930d143f27",
            "placeholder": "​",
            "style": "IPY_MODEL_49998eed7252496d8730420620708000",
            "value": " 18/18 [01:54&lt;00:00,  5.01s/it]"
          }
        },
        "c0a9623eea8d4fd3a9bd8bbdb4310122": {
          "model_module": "@jupyter-widgets/base",
          "model_name": "LayoutModel",
          "model_module_version": "1.2.0",
          "state": {
            "_model_module": "@jupyter-widgets/base",
            "_model_module_version": "1.2.0",
            "_model_name": "LayoutModel",
            "_view_count": null,
            "_view_module": "@jupyter-widgets/base",
            "_view_module_version": "1.2.0",
            "_view_name": "LayoutView",
            "align_content": null,
            "align_items": null,
            "align_self": null,
            "border": null,
            "bottom": null,
            "display": null,
            "flex": null,
            "flex_flow": null,
            "grid_area": null,
            "grid_auto_columns": null,
            "grid_auto_flow": null,
            "grid_auto_rows": null,
            "grid_column": null,
            "grid_gap": null,
            "grid_row": null,
            "grid_template_areas": null,
            "grid_template_columns": null,
            "grid_template_rows": null,
            "height": null,
            "justify_content": null,
            "justify_items": null,
            "left": null,
            "margin": null,
            "max_height": null,
            "max_width": null,
            "min_height": null,
            "min_width": null,
            "object_fit": null,
            "object_position": null,
            "order": null,
            "overflow": null,
            "overflow_x": null,
            "overflow_y": null,
            "padding": null,
            "right": null,
            "top": null,
            "visibility": null,
            "width": null
          }
        },
        "5a553741ed5a4bb6bd16f645793d43be": {
          "model_module": "@jupyter-widgets/base",
          "model_name": "LayoutModel",
          "model_module_version": "1.2.0",
          "state": {
            "_model_module": "@jupyter-widgets/base",
            "_model_module_version": "1.2.0",
            "_model_name": "LayoutModel",
            "_view_count": null,
            "_view_module": "@jupyter-widgets/base",
            "_view_module_version": "1.2.0",
            "_view_name": "LayoutView",
            "align_content": null,
            "align_items": null,
            "align_self": null,
            "border": null,
            "bottom": null,
            "display": null,
            "flex": null,
            "flex_flow": null,
            "grid_area": null,
            "grid_auto_columns": null,
            "grid_auto_flow": null,
            "grid_auto_rows": null,
            "grid_column": null,
            "grid_gap": null,
            "grid_row": null,
            "grid_template_areas": null,
            "grid_template_columns": null,
            "grid_template_rows": null,
            "height": null,
            "justify_content": null,
            "justify_items": null,
            "left": null,
            "margin": null,
            "max_height": null,
            "max_width": null,
            "min_height": null,
            "min_width": null,
            "object_fit": null,
            "object_position": null,
            "order": null,
            "overflow": null,
            "overflow_x": null,
            "overflow_y": null,
            "padding": null,
            "right": null,
            "top": null,
            "visibility": null,
            "width": null
          }
        },
        "e9f112e9a43f4538990aed09d0b78551": {
          "model_module": "@jupyter-widgets/controls",
          "model_name": "DescriptionStyleModel",
          "model_module_version": "1.5.0",
          "state": {
            "_model_module": "@jupyter-widgets/controls",
            "_model_module_version": "1.5.0",
            "_model_name": "DescriptionStyleModel",
            "_view_count": null,
            "_view_module": "@jupyter-widgets/base",
            "_view_module_version": "1.2.0",
            "_view_name": "StyleView",
            "description_width": ""
          }
        },
        "9e4f4a032650428799b94767d5eb79a5": {
          "model_module": "@jupyter-widgets/base",
          "model_name": "LayoutModel",
          "model_module_version": "1.2.0",
          "state": {
            "_model_module": "@jupyter-widgets/base",
            "_model_module_version": "1.2.0",
            "_model_name": "LayoutModel",
            "_view_count": null,
            "_view_module": "@jupyter-widgets/base",
            "_view_module_version": "1.2.0",
            "_view_name": "LayoutView",
            "align_content": null,
            "align_items": null,
            "align_self": null,
            "border": null,
            "bottom": null,
            "display": null,
            "flex": null,
            "flex_flow": null,
            "grid_area": null,
            "grid_auto_columns": null,
            "grid_auto_flow": null,
            "grid_auto_rows": null,
            "grid_column": null,
            "grid_gap": null,
            "grid_row": null,
            "grid_template_areas": null,
            "grid_template_columns": null,
            "grid_template_rows": null,
            "height": null,
            "justify_content": null,
            "justify_items": null,
            "left": null,
            "margin": null,
            "max_height": null,
            "max_width": null,
            "min_height": null,
            "min_width": null,
            "object_fit": null,
            "object_position": null,
            "order": null,
            "overflow": null,
            "overflow_x": null,
            "overflow_y": null,
            "padding": null,
            "right": null,
            "top": null,
            "visibility": null,
            "width": null
          }
        },
        "07ecdc5735b54211927ee8d1d511493a": {
          "model_module": "@jupyter-widgets/controls",
          "model_name": "ProgressStyleModel",
          "model_module_version": "1.5.0",
          "state": {
            "_model_module": "@jupyter-widgets/controls",
            "_model_module_version": "1.5.0",
            "_model_name": "ProgressStyleModel",
            "_view_count": null,
            "_view_module": "@jupyter-widgets/base",
            "_view_module_version": "1.2.0",
            "_view_name": "StyleView",
            "bar_color": null,
            "description_width": ""
          }
        },
        "a7e1f99d0ea84f57ab8a27930d143f27": {
          "model_module": "@jupyter-widgets/base",
          "model_name": "LayoutModel",
          "model_module_version": "1.2.0",
          "state": {
            "_model_module": "@jupyter-widgets/base",
            "_model_module_version": "1.2.0",
            "_model_name": "LayoutModel",
            "_view_count": null,
            "_view_module": "@jupyter-widgets/base",
            "_view_module_version": "1.2.0",
            "_view_name": "LayoutView",
            "align_content": null,
            "align_items": null,
            "align_self": null,
            "border": null,
            "bottom": null,
            "display": null,
            "flex": null,
            "flex_flow": null,
            "grid_area": null,
            "grid_auto_columns": null,
            "grid_auto_flow": null,
            "grid_auto_rows": null,
            "grid_column": null,
            "grid_gap": null,
            "grid_row": null,
            "grid_template_areas": null,
            "grid_template_columns": null,
            "grid_template_rows": null,
            "height": null,
            "justify_content": null,
            "justify_items": null,
            "left": null,
            "margin": null,
            "max_height": null,
            "max_width": null,
            "min_height": null,
            "min_width": null,
            "object_fit": null,
            "object_position": null,
            "order": null,
            "overflow": null,
            "overflow_x": null,
            "overflow_y": null,
            "padding": null,
            "right": null,
            "top": null,
            "visibility": null,
            "width": null
          }
        },
        "49998eed7252496d8730420620708000": {
          "model_module": "@jupyter-widgets/controls",
          "model_name": "DescriptionStyleModel",
          "model_module_version": "1.5.0",
          "state": {
            "_model_module": "@jupyter-widgets/controls",
            "_model_module_version": "1.5.0",
            "_model_name": "DescriptionStyleModel",
            "_view_count": null,
            "_view_module": "@jupyter-widgets/base",
            "_view_module_version": "1.2.0",
            "_view_name": "StyleView",
            "description_width": ""
          }
        }
      }
    }
  },
  "cells": [
    {
      "cell_type": "markdown",
      "source": [
        "# Mouting the Drive"
      ],
      "metadata": {
        "id": "LOgMGEa8n-3i"
      }
    },
    {
      "cell_type": "code",
      "execution_count": 1,
      "metadata": {
        "colab": {
          "base_uri": "https://localhost:8080/"
        },
        "id": "Y9wP3eVpQXIo",
        "outputId": "043462b8-b75f-4682-8701-287bea755374"
      },
      "outputs": [
        {
          "output_type": "stream",
          "name": "stdout",
          "text": [
            "Mounted at /content/drive\n"
          ]
        }
      ],
      "source": [
        "from google.colab import drive\n",
        "drive.mount('/content/drive')"
      ]
    },
    {
      "cell_type": "markdown",
      "source": [
        "# Importing Necessary Libraries"
      ],
      "metadata": {
        "id": "D0JazSpDoCmT"
      }
    },
    {
      "cell_type": "code",
      "source": [
        "import numpy as np\n",
        "import pandas as pd\n",
        "import os\n",
        "from os import listdir\n",
        "import cv2\n",
        "\n",
        "import matplotlib.pyplot as plt\n",
        "%matplotlib inline\n",
        "import seaborn as sns\n",
        "sns.set()\n",
        "from PIL import Image\n",
        "from glob import glob\n",
        "from skimage.io import imread\n",
        "\n",
        "import sklearn\n",
        "from sklearn.model_selection import train_test_split\n",
        "from sklearn.metrics import roc_auc_score\n",
        "\n",
        "import torch \n",
        "import torch.nn as nn\n",
        "import torch.nn.functional as F\n",
        "import torchvision\n",
        "import torchvision.transforms as transforms\n",
        "from torch.utils.data import TensorDataset, DataLoader, Dataset\n",
        "import torch.optim as optim\n",
        "\n",
        "import time\n",
        "import copy\n",
        "from tqdm import tqdm_notebook as tqdm\n",
        "\n",
        "import warnings\n",
        "warnings.filterwarnings(\"ignore\", category=DeprecationWarning)\n",
        "warnings.filterwarnings(\"ignore\", category=UserWarning)\n",
        "warnings.filterwarnings(\"ignore\", category=FutureWarning)\n",
        "\n",
        "from sklearn.decomposition import PCA\n",
        "from sklearn.discriminant_analysis import LinearDiscriminantAnalysis as LDA\n",
        "from lightgbm import LGBMClassifier\n",
        "from sklearn.model_selection import RandomizedSearchCV\n",
        "from sklearn.model_selection import GridSearchCV\n",
        "from sklearn.preprocessing import StandardScaler\n",
        "from sklearn.pipeline import make_pipeline\n",
        "from sklearn.pipeline import Pipeline\n",
        "from sklearn.metrics import classification_report\n",
        "\n",
        "print('Imports complete')"
      ],
      "metadata": {
        "colab": {
          "base_uri": "https://localhost:8080/"
        },
        "id": "6BzDnNpNQim1",
        "outputId": "db5518b5-ec1b-448c-9bf0-5c3199a2b89c"
      },
      "execution_count": 2,
      "outputs": [
        {
          "output_type": "stream",
          "name": "stdout",
          "text": [
            "Imports complete\n"
          ]
        }
      ]
    },
    {
      "cell_type": "code",
      "source": [
        "base_dir= '/content/drive/MyDrive/Colab Notebooks'\n",
        "print(os.listdir(base_dir))"
      ],
      "metadata": {
        "colab": {
          "base_uri": "https://localhost:8080/"
        },
        "id": "C9Vuj96ZQ94X",
        "outputId": "1d9b54c1-26a6-44db-ee52-8ffb1cedba54"
      },
      "execution_count": 3,
      "outputs": [
        {
          "output_type": "stream",
          "name": "stdout",
          "text": [
            "['Untitled0.ipynb', 'Untitled (1)', 'Untitled1.ipynb', 'Untitled2.ipynb', 'Untitled3.ipynb', 'Untitled4.ipynb', 'B21ME029_icsass6.ipynb', 'B21ME029ass8.ipynb', 'Untitled5.ipynb', 'B21ME029Ass7.ipynb', 'Untitled6.ipynb', 'Untitled7.ipynb', 'Copy of IML lab1.ipynb', 'Copy of PRML lab1.ipynb', 'PRML lab1.ipynb', 'Untitled', 'B21CS091_PRML_lab4.ipynb', 'PRML_lab_3.ipynb', 'B21CS091_inlab4.ipynb', 'B21CS091_PRML_lab 2.ipynb', 'B21CS091_PRML_LAB_5.ipynb', 'B21CS091_LAB_Assignment_6.ipynb', 'Copy of B21CS091_prml_inlab7.ipynb', 'B21CS091_PRML7.ipynb', 'Copy of B21CS091_PRML7.ipynb', 'Untitled8.ipynb', 'Untitled9.ipynb', 'Copy of neuralnetwork_classification.ipynb', 'B21CS091_Lab_Assignment_10.ipynb', 'B21CS091_PRML_9.ipynb', 'B21CS091_Lab_Assignment_8.ipynb', 'PRML_MINOR_PROJECT.ipynb', 'YieldStrength_predict.ipynb', 'Untitled10.ipynb', 'Elongation.ipynb', 'Manipulated.ipynb', 'B21CS091_Lab_Assignment_11.ipynb', 'histopathologic-cancer-detection.zip', 'notebook7124a395c6.ipynb', 'PRML-Major-Project.ipynb', 'Untitled11.ipynb']\n"
          ]
        }
      ]
    },
    {
      "cell_type": "code",
      "source": [
        "!unzip '/content/drive/MyDrive/Colab Notebooks/histopathologic-cancer-detection.zip' > /dev/null"
      ],
      "metadata": {
        "id": "ubh7EHSoQ_1X"
      },
      "execution_count": 4,
      "outputs": []
    },
    {
      "cell_type": "code",
      "source": [
        "train_path = '/content/train'\n",
        "test_path = '/content/test'\n",
        "train_files = os.listdir(train_path)\n",
        "test_files = os.listdir(test_path)"
      ],
      "metadata": {
        "id": "UaybG-0MQirH"
      },
      "execution_count": 5,
      "outputs": []
    },
    {
      "cell_type": "code",
      "source": [
        "labels_ = pd.read_csv('/content/train_labels.csv')\n",
        "labels_.head()"
      ],
      "metadata": {
        "colab": {
          "base_uri": "https://localhost:8080/",
          "height": 206
        },
        "id": "TKA_lPsCQisN",
        "outputId": "b23fefe4-7e4e-4691-f451-99453e3a6fb6"
      },
      "execution_count": 9,
      "outputs": [
        {
          "output_type": "execute_result",
          "data": {
            "text/plain": [
              "                                         id  label\n",
              "0  f38a6374c348f90b587e046aac6079959adf3835      0\n",
              "1  c18f2d887b7ae4f6742ee445113fa1aef383ed77      1\n",
              "2  755db6279dae599ebb4d39a9123cce439965282d      0\n",
              "3  bc3f0c64fb968ff4a8bd33af6971ecae77c75e08      0\n",
              "4  068aba587a4950175d04c680d38943fd488d6a9d      0"
            ],
            "text/html": [
              "\n",
              "  <div id=\"df-cd5bdfad-b0d4-47b4-9260-a2840b344719\">\n",
              "    <div class=\"colab-df-container\">\n",
              "      <div>\n",
              "<style scoped>\n",
              "    .dataframe tbody tr th:only-of-type {\n",
              "        vertical-align: middle;\n",
              "    }\n",
              "\n",
              "    .dataframe tbody tr th {\n",
              "        vertical-align: top;\n",
              "    }\n",
              "\n",
              "    .dataframe thead th {\n",
              "        text-align: right;\n",
              "    }\n",
              "</style>\n",
              "<table border=\"1\" class=\"dataframe\">\n",
              "  <thead>\n",
              "    <tr style=\"text-align: right;\">\n",
              "      <th></th>\n",
              "      <th>id</th>\n",
              "      <th>label</th>\n",
              "    </tr>\n",
              "  </thead>\n",
              "  <tbody>\n",
              "    <tr>\n",
              "      <th>0</th>\n",
              "      <td>f38a6374c348f90b587e046aac6079959adf3835</td>\n",
              "      <td>0</td>\n",
              "    </tr>\n",
              "    <tr>\n",
              "      <th>1</th>\n",
              "      <td>c18f2d887b7ae4f6742ee445113fa1aef383ed77</td>\n",
              "      <td>1</td>\n",
              "    </tr>\n",
              "    <tr>\n",
              "      <th>2</th>\n",
              "      <td>755db6279dae599ebb4d39a9123cce439965282d</td>\n",
              "      <td>0</td>\n",
              "    </tr>\n",
              "    <tr>\n",
              "      <th>3</th>\n",
              "      <td>bc3f0c64fb968ff4a8bd33af6971ecae77c75e08</td>\n",
              "      <td>0</td>\n",
              "    </tr>\n",
              "    <tr>\n",
              "      <th>4</th>\n",
              "      <td>068aba587a4950175d04c680d38943fd488d6a9d</td>\n",
              "      <td>0</td>\n",
              "    </tr>\n",
              "  </tbody>\n",
              "</table>\n",
              "</div>\n",
              "      <button class=\"colab-df-convert\" onclick=\"convertToInteractive('df-cd5bdfad-b0d4-47b4-9260-a2840b344719')\"\n",
              "              title=\"Convert this dataframe to an interactive table.\"\n",
              "              style=\"display:none;\">\n",
              "        \n",
              "  <svg xmlns=\"http://www.w3.org/2000/svg\" height=\"24px\"viewBox=\"0 0 24 24\"\n",
              "       width=\"24px\">\n",
              "    <path d=\"M0 0h24v24H0V0z\" fill=\"none\"/>\n",
              "    <path d=\"M18.56 5.44l.94 2.06.94-2.06 2.06-.94-2.06-.94-.94-2.06-.94 2.06-2.06.94zm-11 1L8.5 8.5l.94-2.06 2.06-.94-2.06-.94L8.5 2.5l-.94 2.06-2.06.94zm10 10l.94 2.06.94-2.06 2.06-.94-2.06-.94-.94-2.06-.94 2.06-2.06.94z\"/><path d=\"M17.41 7.96l-1.37-1.37c-.4-.4-.92-.59-1.43-.59-.52 0-1.04.2-1.43.59L10.3 9.45l-7.72 7.72c-.78.78-.78 2.05 0 2.83L4 21.41c.39.39.9.59 1.41.59.51 0 1.02-.2 1.41-.59l7.78-7.78 2.81-2.81c.8-.78.8-2.07 0-2.86zM5.41 20L4 18.59l7.72-7.72 1.47 1.35L5.41 20z\"/>\n",
              "  </svg>\n",
              "      </button>\n",
              "      \n",
              "  <style>\n",
              "    .colab-df-container {\n",
              "      display:flex;\n",
              "      flex-wrap:wrap;\n",
              "      gap: 12px;\n",
              "    }\n",
              "\n",
              "    .colab-df-convert {\n",
              "      background-color: #E8F0FE;\n",
              "      border: none;\n",
              "      border-radius: 50%;\n",
              "      cursor: pointer;\n",
              "      display: none;\n",
              "      fill: #1967D2;\n",
              "      height: 32px;\n",
              "      padding: 0 0 0 0;\n",
              "      width: 32px;\n",
              "    }\n",
              "\n",
              "    .colab-df-convert:hover {\n",
              "      background-color: #E2EBFA;\n",
              "      box-shadow: 0px 1px 2px rgba(60, 64, 67, 0.3), 0px 1px 3px 1px rgba(60, 64, 67, 0.15);\n",
              "      fill: #174EA6;\n",
              "    }\n",
              "\n",
              "    [theme=dark] .colab-df-convert {\n",
              "      background-color: #3B4455;\n",
              "      fill: #D2E3FC;\n",
              "    }\n",
              "\n",
              "    [theme=dark] .colab-df-convert:hover {\n",
              "      background-color: #434B5C;\n",
              "      box-shadow: 0px 1px 3px 1px rgba(0, 0, 0, 0.15);\n",
              "      filter: drop-shadow(0px 1px 2px rgba(0, 0, 0, 0.3));\n",
              "      fill: #FFFFFF;\n",
              "    }\n",
              "  </style>\n",
              "\n",
              "      <script>\n",
              "        const buttonEl =\n",
              "          document.querySelector('#df-cd5bdfad-b0d4-47b4-9260-a2840b344719 button.colab-df-convert');\n",
              "        buttonEl.style.display =\n",
              "          google.colab.kernel.accessAllowed ? 'block' : 'none';\n",
              "\n",
              "        async function convertToInteractive(key) {\n",
              "          const element = document.querySelector('#df-cd5bdfad-b0d4-47b4-9260-a2840b344719');\n",
              "          const dataTable =\n",
              "            await google.colab.kernel.invokeFunction('convertToInteractive',\n",
              "                                                     [key], {});\n",
              "          if (!dataTable) return;\n",
              "\n",
              "          const docLinkHtml = 'Like what you see? Visit the ' +\n",
              "            '<a target=\"_blank\" href=https://colab.research.google.com/notebooks/data_table.ipynb>data table notebook</a>'\n",
              "            + ' to learn more about interactive tables.';\n",
              "          element.innerHTML = '';\n",
              "          dataTable['output_type'] = 'display_data';\n",
              "          await google.colab.output.renderOutput(dataTable, element);\n",
              "          const docLink = document.createElement('div');\n",
              "          docLink.innerHTML = docLinkHtml;\n",
              "          element.appendChild(docLink);\n",
              "        }\n",
              "      </script>\n",
              "    </div>\n",
              "  </div>\n",
              "  "
            ]
          },
          "metadata": {},
          "execution_count": 9
        }
      ]
    },
    {
      "cell_type": "markdown",
      "source": [
        "# Sampling Random Statifies Data "
      ],
      "metadata": {
        "id": "Wn1LDE5hodxS"
      }
    },
    {
      "cell_type": "code",
      "source": [
        "sampled, remainder = train_test_split(labels_, stratify=labels_.label, train_size=0.025)"
      ],
      "metadata": {
        "id": "40HCD-S-Qits"
      },
      "execution_count": 26,
      "outputs": []
    },
    {
      "cell_type": "code",
      "source": [
        "sampled.to_csv('/content/labels_sampled.csv')"
      ],
      "metadata": {
        "id": "NNuZ2JUMQiur"
      },
      "execution_count": 27,
      "outputs": []
    },
    {
      "cell_type": "code",
      "source": [
        "labels = pd.read_csv(\"/content/labels_sampled.csv\")\n",
        "labels.head()"
      ],
      "metadata": {
        "colab": {
          "base_uri": "https://localhost:8080/",
          "height": 206
        },
        "id": "WNuhNaukSxZI",
        "outputId": "225c9a55-5c04-4a2b-8ae6-52bfc9f5a2cc"
      },
      "execution_count": 29,
      "outputs": [
        {
          "output_type": "execute_result",
          "data": {
            "text/plain": [
              "   Unnamed: 0                                        id  label\n",
              "0      175486  90ecebe5f14ba5d63bb4ba24bf6472391c406278      1\n",
              "1      102041  07638160aac5b60d4109dd31766c228127c83dbe      1\n",
              "2      194160  0e509fcddf1eae5930080bcaf0fb9822dcfe0c06      0\n",
              "3      126917  8e83d25c31702bd93fe713d7098bf8d8885cf0e9      0\n",
              "4      196032  20a1307ef044d93305d6492382aaaa4281bb95d9      1"
            ],
            "text/html": [
              "\n",
              "  <div id=\"df-e9dd8583-0e2e-4ed1-84d8-935e91fc959a\">\n",
              "    <div class=\"colab-df-container\">\n",
              "      <div>\n",
              "<style scoped>\n",
              "    .dataframe tbody tr th:only-of-type {\n",
              "        vertical-align: middle;\n",
              "    }\n",
              "\n",
              "    .dataframe tbody tr th {\n",
              "        vertical-align: top;\n",
              "    }\n",
              "\n",
              "    .dataframe thead th {\n",
              "        text-align: right;\n",
              "    }\n",
              "</style>\n",
              "<table border=\"1\" class=\"dataframe\">\n",
              "  <thead>\n",
              "    <tr style=\"text-align: right;\">\n",
              "      <th></th>\n",
              "      <th>Unnamed: 0</th>\n",
              "      <th>id</th>\n",
              "      <th>label</th>\n",
              "    </tr>\n",
              "  </thead>\n",
              "  <tbody>\n",
              "    <tr>\n",
              "      <th>0</th>\n",
              "      <td>175486</td>\n",
              "      <td>90ecebe5f14ba5d63bb4ba24bf6472391c406278</td>\n",
              "      <td>1</td>\n",
              "    </tr>\n",
              "    <tr>\n",
              "      <th>1</th>\n",
              "      <td>102041</td>\n",
              "      <td>07638160aac5b60d4109dd31766c228127c83dbe</td>\n",
              "      <td>1</td>\n",
              "    </tr>\n",
              "    <tr>\n",
              "      <th>2</th>\n",
              "      <td>194160</td>\n",
              "      <td>0e509fcddf1eae5930080bcaf0fb9822dcfe0c06</td>\n",
              "      <td>0</td>\n",
              "    </tr>\n",
              "    <tr>\n",
              "      <th>3</th>\n",
              "      <td>126917</td>\n",
              "      <td>8e83d25c31702bd93fe713d7098bf8d8885cf0e9</td>\n",
              "      <td>0</td>\n",
              "    </tr>\n",
              "    <tr>\n",
              "      <th>4</th>\n",
              "      <td>196032</td>\n",
              "      <td>20a1307ef044d93305d6492382aaaa4281bb95d9</td>\n",
              "      <td>1</td>\n",
              "    </tr>\n",
              "  </tbody>\n",
              "</table>\n",
              "</div>\n",
              "      <button class=\"colab-df-convert\" onclick=\"convertToInteractive('df-e9dd8583-0e2e-4ed1-84d8-935e91fc959a')\"\n",
              "              title=\"Convert this dataframe to an interactive table.\"\n",
              "              style=\"display:none;\">\n",
              "        \n",
              "  <svg xmlns=\"http://www.w3.org/2000/svg\" height=\"24px\"viewBox=\"0 0 24 24\"\n",
              "       width=\"24px\">\n",
              "    <path d=\"M0 0h24v24H0V0z\" fill=\"none\"/>\n",
              "    <path d=\"M18.56 5.44l.94 2.06.94-2.06 2.06-.94-2.06-.94-.94-2.06-.94 2.06-2.06.94zm-11 1L8.5 8.5l.94-2.06 2.06-.94-2.06-.94L8.5 2.5l-.94 2.06-2.06.94zm10 10l.94 2.06.94-2.06 2.06-.94-2.06-.94-.94-2.06-.94 2.06-2.06.94z\"/><path d=\"M17.41 7.96l-1.37-1.37c-.4-.4-.92-.59-1.43-.59-.52 0-1.04.2-1.43.59L10.3 9.45l-7.72 7.72c-.78.78-.78 2.05 0 2.83L4 21.41c.39.39.9.59 1.41.59.51 0 1.02-.2 1.41-.59l7.78-7.78 2.81-2.81c.8-.78.8-2.07 0-2.86zM5.41 20L4 18.59l7.72-7.72 1.47 1.35L5.41 20z\"/>\n",
              "  </svg>\n",
              "      </button>\n",
              "      \n",
              "  <style>\n",
              "    .colab-df-container {\n",
              "      display:flex;\n",
              "      flex-wrap:wrap;\n",
              "      gap: 12px;\n",
              "    }\n",
              "\n",
              "    .colab-df-convert {\n",
              "      background-color: #E8F0FE;\n",
              "      border: none;\n",
              "      border-radius: 50%;\n",
              "      cursor: pointer;\n",
              "      display: none;\n",
              "      fill: #1967D2;\n",
              "      height: 32px;\n",
              "      padding: 0 0 0 0;\n",
              "      width: 32px;\n",
              "    }\n",
              "\n",
              "    .colab-df-convert:hover {\n",
              "      background-color: #E2EBFA;\n",
              "      box-shadow: 0px 1px 2px rgba(60, 64, 67, 0.3), 0px 1px 3px 1px rgba(60, 64, 67, 0.15);\n",
              "      fill: #174EA6;\n",
              "    }\n",
              "\n",
              "    [theme=dark] .colab-df-convert {\n",
              "      background-color: #3B4455;\n",
              "      fill: #D2E3FC;\n",
              "    }\n",
              "\n",
              "    [theme=dark] .colab-df-convert:hover {\n",
              "      background-color: #434B5C;\n",
              "      box-shadow: 0px 1px 3px 1px rgba(0, 0, 0, 0.15);\n",
              "      filter: drop-shadow(0px 1px 2px rgba(0, 0, 0, 0.3));\n",
              "      fill: #FFFFFF;\n",
              "    }\n",
              "  </style>\n",
              "\n",
              "      <script>\n",
              "        const buttonEl =\n",
              "          document.querySelector('#df-e9dd8583-0e2e-4ed1-84d8-935e91fc959a button.colab-df-convert');\n",
              "        buttonEl.style.display =\n",
              "          google.colab.kernel.accessAllowed ? 'block' : 'none';\n",
              "\n",
              "        async function convertToInteractive(key) {\n",
              "          const element = document.querySelector('#df-e9dd8583-0e2e-4ed1-84d8-935e91fc959a');\n",
              "          const dataTable =\n",
              "            await google.colab.kernel.invokeFunction('convertToInteractive',\n",
              "                                                     [key], {});\n",
              "          if (!dataTable) return;\n",
              "\n",
              "          const docLinkHtml = 'Like what you see? Visit the ' +\n",
              "            '<a target=\"_blank\" href=https://colab.research.google.com/notebooks/data_table.ipynb>data table notebook</a>'\n",
              "            + ' to learn more about interactive tables.';\n",
              "          element.innerHTML = '';\n",
              "          dataTable['output_type'] = 'display_data';\n",
              "          await google.colab.output.renderOutput(dataTable, element);\n",
              "          const docLink = document.createElement('div');\n",
              "          docLink.innerHTML = docLinkHtml;\n",
              "          element.appendChild(docLink);\n",
              "        }\n",
              "      </script>\n",
              "    </div>\n",
              "  </div>\n",
              "  "
            ]
          },
          "metadata": {},
          "execution_count": 29
        }
      ]
    },
    {
      "cell_type": "code",
      "source": [
        "from PIL import Image\n",
        "IMG_WIDTH=96\n",
        "IMG_HEIGHT=96\n",
        "img_folder='/content/train'"
      ],
      "metadata": {
        "id": "zvYlqJ5yQixe"
      },
      "execution_count": 15,
      "outputs": []
    },
    {
      "cell_type": "code",
      "source": [
        "import random\n",
        "import matplotlib.image as mpimg\n",
        "%matplotlib inline"
      ],
      "metadata": {
        "id": "PIlGBkGYQi4m"
      },
      "execution_count": 16,
      "outputs": []
    },
    {
      "cell_type": "code",
      "source": [
        "def create_dataset_PIL(img_folder,labels):\n",
        "    \n",
        "    img_data_array=[]\n",
        "    class_name=[]\n",
        "    for i, file in enumerate(labels['id']):\n",
        "           \n",
        "            image= np.array(Image.open(\"/content/train/\" + file + \".tif\"))\n",
        "            image = image.astype('float32')\n",
        "            image /= 255  \n",
        "            img_data_array.append(image)\n",
        "            class_name.append(labels['label'][i])\n",
        "    return img_data_array , class_name\n",
        "PIL_img_data, class_name=create_dataset_PIL(img_folder,labels)"
      ],
      "metadata": {
        "id": "spENEkKRSKh4"
      },
      "execution_count": 31,
      "outputs": []
    },
    {
      "cell_type": "code",
      "source": [
        "print(len(PIL_img_data))\n",
        "print(PIL_img_data[0].shape)"
      ],
      "metadata": {
        "colab": {
          "base_uri": "https://localhost:8080/"
        },
        "id": "vsTkqG0PS7dq",
        "outputId": "b403ef08-5548-444d-d2fc-39cd367d0586"
      },
      "execution_count": 32,
      "outputs": [
        {
          "output_type": "stream",
          "name": "stdout",
          "text": [
            "5500\n",
            "(96, 96, 3)\n"
          ]
        }
      ]
    },
    {
      "cell_type": "code",
      "source": [
        "flatten=[]\n",
        "for i in PIL_img_data:\n",
        "  flatten.append(i.flatten())\n",
        "flatten = np.array(flatten)\n",
        "flatten.shape\n"
      ],
      "metadata": {
        "colab": {
          "base_uri": "https://localhost:8080/"
        },
        "id": "BRwJiZYES7jX",
        "outputId": "7e841dde-f80c-4623-b9e9-01f6e33f0808"
      },
      "execution_count": 33,
      "outputs": [
        {
          "output_type": "execute_result",
          "data": {
            "text/plain": [
              "(5500, 27648)"
            ]
          },
          "metadata": {},
          "execution_count": 33
        }
      ]
    },
    {
      "cell_type": "markdown",
      "source": [
        "#Principal Component Analysis\n",
        "\n",
        "\n"
      ],
      "metadata": {
        "id": "L0c2H-FOTKL6"
      }
    },
    {
      "cell_type": "code",
      "source": [
        "pca90 = PCA(n_components = 0.9)\n",
        "pca90.fit(flatten,class_name)\n",
        "pca_data90 = pca90.transform(flatten)"
      ],
      "metadata": {
        "id": "K5vDIkezS7xH"
      },
      "execution_count": 41,
      "outputs": []
    },
    {
      "cell_type": "code",
      "source": [
        "lda = LDA(store_covariance= True)\n",
        "lda.fit(pca_data90,class_name)\n",
        "lda_data90 = lda.transform(pca_data90)"
      ],
      "metadata": {
        "id": "OTeY-dqpVsCE"
      },
      "execution_count": 44,
      "outputs": []
    },
    {
      "cell_type": "markdown",
      "source": [
        "# **Models without Applying PCA**"
      ],
      "metadata": {
        "id": "xVxZlWFLTlSL"
      }
    },
    {
      "cell_type": "markdown",
      "source": [
        "## Linear SVC"
      ],
      "metadata": {
        "id": "SsIyBzkHT7kL"
      }
    },
    {
      "cell_type": "code",
      "source": [
        "X_train,X_test,y_train,y_test=train_test_split(flatten,class_name,stratify=class_name,train_size=0.8,random_state=10)"
      ],
      "metadata": {
        "id": "Rsepzf6jT2eg"
      },
      "execution_count": 46,
      "outputs": []
    },
    {
      "cell_type": "code",
      "source": [
        "from sklearn.metrics import classification_report\n",
        "from sklearn.metrics import accuracy_score"
      ],
      "metadata": {
        "id": "uYWL-E0sS72F"
      },
      "execution_count": 47,
      "outputs": []
    },
    {
      "cell_type": "code",
      "source": [
        "from sklearn.svm import LinearSVC\n",
        "from sklearn.preprocessing import StandardScaler\n",
        "     \n",
        "\n",
        "from sklearn.pipeline import make_pipeline\n",
        "     \n",
        "\n",
        "clf = make_pipeline(StandardScaler(), LinearSVC(random_state=0, tol=1e-5))\n",
        "clf.fit(X_train,y_train)"
      ],
      "metadata": {
        "colab": {
          "base_uri": "https://localhost:8080/",
          "height": 125
        },
        "id": "yvv3o9CvTtdD",
        "outputId": "1e18dde2-3387-4157-cc18-d98714fa7816"
      },
      "execution_count": 48,
      "outputs": [
        {
          "output_type": "execute_result",
          "data": {
            "text/plain": [
              "Pipeline(steps=[('standardscaler', StandardScaler()),\n",
              "                ('linearsvc', LinearSVC(random_state=0, tol=1e-05))])"
            ],
            "text/html": [
              "<style>#sk-container-id-3 {color: black;background-color: white;}#sk-container-id-3 pre{padding: 0;}#sk-container-id-3 div.sk-toggleable {background-color: white;}#sk-container-id-3 label.sk-toggleable__label {cursor: pointer;display: block;width: 100%;margin-bottom: 0;padding: 0.3em;box-sizing: border-box;text-align: center;}#sk-container-id-3 label.sk-toggleable__label-arrow:before {content: \"▸\";float: left;margin-right: 0.25em;color: #696969;}#sk-container-id-3 label.sk-toggleable__label-arrow:hover:before {color: black;}#sk-container-id-3 div.sk-estimator:hover label.sk-toggleable__label-arrow:before {color: black;}#sk-container-id-3 div.sk-toggleable__content {max-height: 0;max-width: 0;overflow: hidden;text-align: left;background-color: #f0f8ff;}#sk-container-id-3 div.sk-toggleable__content pre {margin: 0.2em;color: black;border-radius: 0.25em;background-color: #f0f8ff;}#sk-container-id-3 input.sk-toggleable__control:checked~div.sk-toggleable__content {max-height: 200px;max-width: 100%;overflow: auto;}#sk-container-id-3 input.sk-toggleable__control:checked~label.sk-toggleable__label-arrow:before {content: \"▾\";}#sk-container-id-3 div.sk-estimator input.sk-toggleable__control:checked~label.sk-toggleable__label {background-color: #d4ebff;}#sk-container-id-3 div.sk-label input.sk-toggleable__control:checked~label.sk-toggleable__label {background-color: #d4ebff;}#sk-container-id-3 input.sk-hidden--visually {border: 0;clip: rect(1px 1px 1px 1px);clip: rect(1px, 1px, 1px, 1px);height: 1px;margin: -1px;overflow: hidden;padding: 0;position: absolute;width: 1px;}#sk-container-id-3 div.sk-estimator {font-family: monospace;background-color: #f0f8ff;border: 1px dotted black;border-radius: 0.25em;box-sizing: border-box;margin-bottom: 0.5em;}#sk-container-id-3 div.sk-estimator:hover {background-color: #d4ebff;}#sk-container-id-3 div.sk-parallel-item::after {content: \"\";width: 100%;border-bottom: 1px solid gray;flex-grow: 1;}#sk-container-id-3 div.sk-label:hover label.sk-toggleable__label {background-color: #d4ebff;}#sk-container-id-3 div.sk-serial::before {content: \"\";position: absolute;border-left: 1px solid gray;box-sizing: border-box;top: 0;bottom: 0;left: 50%;z-index: 0;}#sk-container-id-3 div.sk-serial {display: flex;flex-direction: column;align-items: center;background-color: white;padding-right: 0.2em;padding-left: 0.2em;position: relative;}#sk-container-id-3 div.sk-item {position: relative;z-index: 1;}#sk-container-id-3 div.sk-parallel {display: flex;align-items: stretch;justify-content: center;background-color: white;position: relative;}#sk-container-id-3 div.sk-item::before, #sk-container-id-3 div.sk-parallel-item::before {content: \"\";position: absolute;border-left: 1px solid gray;box-sizing: border-box;top: 0;bottom: 0;left: 50%;z-index: -1;}#sk-container-id-3 div.sk-parallel-item {display: flex;flex-direction: column;z-index: 1;position: relative;background-color: white;}#sk-container-id-3 div.sk-parallel-item:first-child::after {align-self: flex-end;width: 50%;}#sk-container-id-3 div.sk-parallel-item:last-child::after {align-self: flex-start;width: 50%;}#sk-container-id-3 div.sk-parallel-item:only-child::after {width: 0;}#sk-container-id-3 div.sk-dashed-wrapped {border: 1px dashed gray;margin: 0 0.4em 0.5em 0.4em;box-sizing: border-box;padding-bottom: 0.4em;background-color: white;}#sk-container-id-3 div.sk-label label {font-family: monospace;font-weight: bold;display: inline-block;line-height: 1.2em;}#sk-container-id-3 div.sk-label-container {text-align: center;}#sk-container-id-3 div.sk-container {/* jupyter's `normalize.less` sets `[hidden] { display: none; }` but bootstrap.min.css set `[hidden] { display: none !important; }` so we also need the `!important` here to be able to override the default hidden behavior on the sphinx rendered scikit-learn.org. See: https://github.com/scikit-learn/scikit-learn/issues/21755 */display: inline-block !important;position: relative;}#sk-container-id-3 div.sk-text-repr-fallback {display: none;}</style><div id=\"sk-container-id-3\" class=\"sk-top-container\"><div class=\"sk-text-repr-fallback\"><pre>Pipeline(steps=[(&#x27;standardscaler&#x27;, StandardScaler()),\n",
              "                (&#x27;linearsvc&#x27;, LinearSVC(random_state=0, tol=1e-05))])</pre><b>In a Jupyter environment, please rerun this cell to show the HTML representation or trust the notebook. <br />On GitHub, the HTML representation is unable to render, please try loading this page with nbviewer.org.</b></div><div class=\"sk-container\" hidden><div class=\"sk-item sk-dashed-wrapped\"><div class=\"sk-label-container\"><div class=\"sk-label sk-toggleable\"><input class=\"sk-toggleable__control sk-hidden--visually\" id=\"sk-estimator-id-3\" type=\"checkbox\" ><label for=\"sk-estimator-id-3\" class=\"sk-toggleable__label sk-toggleable__label-arrow\">Pipeline</label><div class=\"sk-toggleable__content\"><pre>Pipeline(steps=[(&#x27;standardscaler&#x27;, StandardScaler()),\n",
              "                (&#x27;linearsvc&#x27;, LinearSVC(random_state=0, tol=1e-05))])</pre></div></div></div><div class=\"sk-serial\"><div class=\"sk-item\"><div class=\"sk-estimator sk-toggleable\"><input class=\"sk-toggleable__control sk-hidden--visually\" id=\"sk-estimator-id-4\" type=\"checkbox\" ><label for=\"sk-estimator-id-4\" class=\"sk-toggleable__label sk-toggleable__label-arrow\">StandardScaler</label><div class=\"sk-toggleable__content\"><pre>StandardScaler()</pre></div></div></div><div class=\"sk-item\"><div class=\"sk-estimator sk-toggleable\"><input class=\"sk-toggleable__control sk-hidden--visually\" id=\"sk-estimator-id-5\" type=\"checkbox\" ><label for=\"sk-estimator-id-5\" class=\"sk-toggleable__label sk-toggleable__label-arrow\">LinearSVC</label><div class=\"sk-toggleable__content\"><pre>LinearSVC(random_state=0, tol=1e-05)</pre></div></div></div></div></div></div></div>"
            ]
          },
          "metadata": {},
          "execution_count": 48
        }
      ]
    },
    {
      "cell_type": "code",
      "source": [
        "y_pred=clf.predict(X_test)\n",
        "acc=classification_report(y_test, y_pred)\n",
        "print(acc)"
      ],
      "metadata": {
        "colab": {
          "base_uri": "https://localhost:8080/"
        },
        "id": "3WTBfReETtf4",
        "outputId": "19f4536e-ea84-41dc-fea6-a9c6e5c7abd5"
      },
      "execution_count": 49,
      "outputs": [
        {
          "output_type": "stream",
          "name": "stdout",
          "text": [
            "              precision    recall  f1-score   support\n",
            "\n",
            "           0       0.67      0.67      0.67       654\n",
            "           1       0.52      0.51      0.52       446\n",
            "\n",
            "    accuracy                           0.61      1100\n",
            "   macro avg       0.59      0.59      0.59      1100\n",
            "weighted avg       0.61      0.61      0.61      1100\n",
            "\n"
          ]
        }
      ]
    },
    {
      "cell_type": "markdown",
      "source": [
        "# **KNN**"
      ],
      "metadata": {
        "id": "iOUlx-IzUG_t"
      }
    },
    {
      "cell_type": "code",
      "source": [
        "from sklearn.neighbors import KNeighborsClassifier\n",
        "     \n",
        "\n",
        "KNN_ = KNeighborsClassifier(n_neighbors=5)\n",
        "KNN_.fit(X_train, y_train)\n",
        "     \n",
        "KNeighborsClassifier()\n",
        "\n",
        "y_pred=KNN_.predict(X_test)\n",
        "acc=classification_report(y_test, y_pred)\n",
        "print(acc)"
      ],
      "metadata": {
        "colab": {
          "base_uri": "https://localhost:8080/"
        },
        "id": "6xxtfbYqTtp_",
        "outputId": "5427fd33-21b8-4e68-d7a5-6b37015a4d03"
      },
      "execution_count": 51,
      "outputs": [
        {
          "output_type": "stream",
          "name": "stdout",
          "text": [
            "              precision    recall  f1-score   support\n",
            "\n",
            "           0       0.78      0.44      0.56       654\n",
            "           1       0.50      0.82      0.62       446\n",
            "\n",
            "    accuracy                           0.59      1100\n",
            "   macro avg       0.64      0.63      0.59      1100\n",
            "weighted avg       0.66      0.59      0.58      1100\n",
            "\n"
          ]
        }
      ]
    },
    {
      "cell_type": "markdown",
      "source": [
        "# **Using RBF SVC**"
      ],
      "metadata": {
        "id": "0-8UNBRKUPbg"
      }
    },
    {
      "cell_type": "code",
      "source": [
        "from sklearn.svm import SVC\n",
        "     \n",
        "\n",
        "clf = make_pipeline(StandardScaler(), SVC(random_state=0, gamma='auto'))\n",
        "clf.fit(X_train,y_train)\n",
        "     \n",
        "Pipeline(steps=[('standardscaler', StandardScaler()),\n",
        "                ('svc', SVC(gamma='auto', random_state=0))])\n",
        "\n",
        "y_pred=clf.predict(X_test)\n",
        "acc=classification_report(y_test, y_pred)\n",
        "print(acc)"
      ],
      "metadata": {
        "colab": {
          "base_uri": "https://localhost:8080/"
        },
        "id": "tfpf1wvLUO06",
        "outputId": "36a64a6b-6ba8-47d6-f5cf-ed48bcb46e82"
      },
      "execution_count": 52,
      "outputs": [
        {
          "output_type": "stream",
          "name": "stdout",
          "text": [
            "              precision    recall  f1-score   support\n",
            "\n",
            "           0       0.80      0.88      0.84       654\n",
            "           1       0.79      0.68      0.73       446\n",
            "\n",
            "    accuracy                           0.80      1100\n",
            "   macro avg       0.80      0.78      0.78      1100\n",
            "weighted avg       0.80      0.80      0.79      1100\n",
            "\n"
          ]
        }
      ]
    },
    {
      "cell_type": "markdown",
      "source": [
        "# **Using LGBM**"
      ],
      "metadata": {
        "id": "msnH0F0aUY6g"
      }
    },
    {
      "cell_type": "code",
      "source": [
        "\n",
        "lgbm = LGBMClassifier()\n",
        "lgbm.fit(X_train,y_train)\n",
        "     \n",
        "LGBMClassifier()\n",
        "\n",
        "y_pred = lgbm.predict(X_test)\n",
        "acc = classification_report(y_test,y_pred)\n",
        "print(acc)"
      ],
      "metadata": {
        "colab": {
          "base_uri": "https://localhost:8080/"
        },
        "id": "qwek6dZuUYWT",
        "outputId": "ec8f42fc-be49-48f2-f97f-08cbd2bddaa5"
      },
      "execution_count": 53,
      "outputs": [
        {
          "output_type": "stream",
          "name": "stdout",
          "text": [
            "              precision    recall  f1-score   support\n",
            "\n",
            "           0       0.79      0.87      0.83       654\n",
            "           1       0.77      0.66      0.71       446\n",
            "\n",
            "    accuracy                           0.78      1100\n",
            "   macro avg       0.78      0.76      0.77      1100\n",
            "weighted avg       0.78      0.78      0.78      1100\n",
            "\n"
          ]
        }
      ]
    },
    {
      "cell_type": "markdown",
      "source": [],
      "metadata": {
        "id": "FT-vlliDUta0"
      }
    },
    {
      "cell_type": "markdown",
      "source": [
        "# **Models with PCA(0.9) and LCA**"
      ],
      "metadata": {
        "id": "lYQrTE-cUtda"
      }
    },
    {
      "cell_type": "markdown",
      "source": [
        "### **Linear Support Vector Classifier**"
      ],
      "metadata": {
        "id": "Mk1-k4GTWBaL"
      }
    },
    {
      "cell_type": "code",
      "source": [
        "X_train,X_test,y_train,y_test=train_test_split(lda_data90,class_name,stratify=class_name,train_size=0.8,random_state=10)"
      ],
      "metadata": {
        "id": "N59lYDuRU2IA"
      },
      "execution_count": 54,
      "outputs": []
    },
    {
      "cell_type": "code",
      "source": [
        "model = Pipeline((('scaler',StandardScaler()),('linear svc', LinearSVC(random_state=0, tol=1e-5))))\n",
        "model.fit(X_train,y_train)\n",
        "\n",
        "y_pred=model.predict(X_test)\n",
        "acc=classification_report(y_test, y_pred)\n",
        "print(acc)\n",
        "     "
      ],
      "metadata": {
        "colab": {
          "base_uri": "https://localhost:8080/"
        },
        "id": "glu_s100U2KQ",
        "outputId": "205d6c42-de6e-4d29-f4e7-9ac29bab4f59"
      },
      "execution_count": 55,
      "outputs": [
        {
          "output_type": "stream",
          "name": "stdout",
          "text": [
            "              precision    recall  f1-score   support\n",
            "\n",
            "           0       0.84      0.87      0.86       654\n",
            "           1       0.80      0.76      0.78       446\n",
            "\n",
            "    accuracy                           0.82      1100\n",
            "   macro avg       0.82      0.81      0.82      1100\n",
            "weighted avg       0.82      0.82      0.82      1100\n",
            "\n"
          ]
        }
      ]
    },
    {
      "cell_type": "markdown",
      "source": [
        "**Grid Search**"
      ],
      "metadata": {
        "id": "fwj_IjZFVNUO"
      }
    },
    {
      "cell_type": "code",
      "source": [
        "clf = GridSearchCV(model,{'linear svc__C':[0.25,2.5,25,250]})\n",
        "clf.fit(X_train,y_train)\n",
        "clf.best_params_"
      ],
      "metadata": {
        "colab": {
          "base_uri": "https://localhost:8080/"
        },
        "id": "Ue6Gu6rqVRIU",
        "outputId": "be857af5-5ad1-45ed-e152-a026052ce1a3"
      },
      "execution_count": 56,
      "outputs": [
        {
          "output_type": "execute_result",
          "data": {
            "text/plain": [
              "{'linear svc__C': 250}"
            ]
          },
          "metadata": {},
          "execution_count": 56
        }
      ]
    },
    {
      "cell_type": "code",
      "source": [
        "\n",
        "clf = GridSearchCV(model,{'linear svc__C':[0.25,2.5,25,250]})\n",
        "clf.fit(X_train,y_train)\n",
        "clf.best_params_"
      ],
      "metadata": {
        "colab": {
          "base_uri": "https://localhost:8080/"
        },
        "id": "zKCHAEhZVRKk",
        "outputId": "19f999df-406a-4363-ab96-2f2a0fc4dbb3"
      },
      "execution_count": 57,
      "outputs": [
        {
          "output_type": "execute_result",
          "data": {
            "text/plain": [
              "{'linear svc__C': 250}"
            ]
          },
          "metadata": {},
          "execution_count": 57
        }
      ]
    },
    {
      "cell_type": "code",
      "source": [
        "clf.cv_results_"
      ],
      "metadata": {
        "colab": {
          "base_uri": "https://localhost:8080/"
        },
        "id": "pi_19dmuVRN9",
        "outputId": "d2d26589-56b8-4cfb-cace-a49fd256f4e2"
      },
      "execution_count": 58,
      "outputs": [
        {
          "output_type": "execute_result",
          "data": {
            "text/plain": [
              "{'mean_fit_time': array([0.09293203, 0.29559917, 0.18399644, 0.15642676]),\n",
              " 'std_fit_time': array([0.02243043, 0.13841283, 0.03072901, 0.01009699]),\n",
              " 'mean_score_time': array([0.01251564, 0.00491548, 0.00393882, 0.00235829]),\n",
              " 'std_score_time': array([2.27828699e-03, 2.74608001e-03, 2.17726608e-03, 5.43944765e-05]),\n",
              " 'param_linear svc__C': masked_array(data=[0.25, 2.5, 25, 250],\n",
              "              mask=[False, False, False, False],\n",
              "        fill_value='?',\n",
              "             dtype=object),\n",
              " 'params': [{'linear svc__C': 0.25},\n",
              "  {'linear svc__C': 2.5},\n",
              "  {'linear svc__C': 25},\n",
              "  {'linear svc__C': 250}],\n",
              " 'split0_test_score': array([0.79886364, 0.79886364, 0.8       , 0.79545455]),\n",
              " 'split1_test_score': array([0.80795455, 0.80795455, 0.80795455, 0.80909091]),\n",
              " 'split2_test_score': array([0.83295455, 0.83295455, 0.83295455, 0.83522727]),\n",
              " 'split3_test_score': array([0.83522727, 0.83522727, 0.83522727, 0.83636364]),\n",
              " 'split4_test_score': array([0.80113636, 0.80113636, 0.80113636, 0.80227273]),\n",
              " 'mean_test_score': array([0.81522727, 0.81522727, 0.81545455, 0.81568182]),\n",
              " 'std_test_score': array([0.0157065 , 0.0157065 , 0.01547459, 0.01698322]),\n",
              " 'rank_test_score': array([3, 3, 2, 1], dtype=int32)}"
            ]
          },
          "metadata": {},
          "execution_count": 58
        }
      ]
    },
    {
      "cell_type": "markdown",
      "source": [
        "## **KNN**"
      ],
      "metadata": {
        "id": "WrHYXJH2WM9W"
      }
    },
    {
      "cell_type": "code",
      "source": [
        "from sklearn.neighbors import KNeighborsClassifier\n",
        "     \n",
        "\n",
        "KNN_ = KNeighborsClassifier(n_neighbors=5)\n",
        "KNN_.fit(X_train, y_train)\n",
        "     \n",
        "KNeighborsClassifier()\n",
        "\n",
        "y_pred=KNN_.predict(X_test)\n",
        "acc=classification_report(y_test, y_pred)\n",
        "print(acc)\n",
        "     "
      ],
      "metadata": {
        "colab": {
          "base_uri": "https://localhost:8080/"
        },
        "id": "GVOuumvqWQS4",
        "outputId": "11f97051-5bcb-42fd-8058-f5c432bd83bb"
      },
      "execution_count": 59,
      "outputs": [
        {
          "output_type": "stream",
          "name": "stdout",
          "text": [
            "              precision    recall  f1-score   support\n",
            "\n",
            "           0       0.83      0.83      0.83       654\n",
            "           1       0.75      0.76      0.75       446\n",
            "\n",
            "    accuracy                           0.80      1100\n",
            "   macro avg       0.79      0.79      0.79      1100\n",
            "weighted avg       0.80      0.80      0.80      1100\n",
            "\n"
          ]
        }
      ]
    },
    {
      "cell_type": "code",
      "source": [
        "grid_params = { 'n_neighbors' : [5,7,9,11,13,15],\n",
        "               'weights' : ['uniform','distance'],\n",
        "               'metric' : ['minkowski','euclidean','manhattan']}\n",
        "     \n",
        "\n",
        "clf = GridSearchCV(KNN_,grid_params)\n",
        "     \n",
        "\n",
        "clf.fit(X_train,y_train)\n",
        "     \n",
        "clf.best_params_"
      ],
      "metadata": {
        "colab": {
          "base_uri": "https://localhost:8080/"
        },
        "id": "wF7P1RsWWQVv",
        "outputId": "a90793a1-d591-4fce-a58d-4dead34fb70c"
      },
      "execution_count": 60,
      "outputs": [
        {
          "output_type": "execute_result",
          "data": {
            "text/plain": [
              "{'metric': 'minkowski', 'n_neighbors': 13, 'weights': 'uniform'}"
            ]
          },
          "metadata": {},
          "execution_count": 60
        }
      ]
    },
    {
      "cell_type": "code",
      "source": [
        "\n",
        "KNN_ = KNeighborsClassifier(metric = 'minkowski',n_neighbors=13,weights='uniform')\n",
        "KNN_.fit(X_train, y_train)\n",
        "\n",
        "y_pred=KNN_.predict(X_test)\n",
        "acc=classification_report(y_test, y_pred)\n",
        "print(acc)"
      ],
      "metadata": {
        "colab": {
          "base_uri": "https://localhost:8080/"
        },
        "id": "034OBwRaWQYI",
        "outputId": "04e4e240-3730-48e4-8529-8588ec6929cd"
      },
      "execution_count": 62,
      "outputs": [
        {
          "output_type": "stream",
          "name": "stdout",
          "text": [
            "              precision    recall  f1-score   support\n",
            "\n",
            "           0       0.85      0.83      0.84       654\n",
            "           1       0.76      0.79      0.77       446\n",
            "\n",
            "    accuracy                           0.81      1100\n",
            "   macro avg       0.81      0.81      0.81      1100\n",
            "weighted avg       0.81      0.81      0.81      1100\n",
            "\n"
          ]
        }
      ]
    },
    {
      "cell_type": "code",
      "source": [
        "clf.cv_results_"
      ],
      "metadata": {
        "colab": {
          "base_uri": "https://localhost:8080/"
        },
        "id": "HyOy_IjoWmsz",
        "outputId": "daa88140-411c-4bb8-f4f7-93e0c55fa32e"
      },
      "execution_count": 61,
      "outputs": [
        {
          "output_type": "execute_result",
          "data": {
            "text/plain": [
              "{'mean_fit_time': array([0.00448999, 0.00473161, 0.00447168, 0.00458388, 0.00501561,\n",
              "        0.00403447, 0.0053997 , 0.00431232, 0.0044271 , 0.00440702,\n",
              "        0.00465736, 0.00553565, 0.00515351, 0.00440669, 0.0043674 ,\n",
              "        0.00461478, 0.00428233, 0.00422621, 0.00430198, 0.00412774,\n",
              "        0.00436149, 0.00409245, 0.00421529, 0.00417819, 0.00440025,\n",
              "        0.00428257, 0.00432897, 0.00524235, 0.00447659, 0.00428443,\n",
              "        0.00438437, 0.00427675, 0.00456572, 0.00421448, 0.00500531,\n",
              "        0.0044445 ]),\n",
              " 'std_fit_time': array([1.10836959e-04, 5.40094894e-04, 9.92252870e-05, 6.50549258e-04,\n",
              "        1.46902781e-03, 8.70362232e-05, 1.69989558e-03, 3.78809787e-04,\n",
              "        1.44750562e-04, 1.55768081e-04, 3.22192294e-04, 1.21326465e-03,\n",
              "        1.84838428e-03, 4.63264711e-04, 1.69112259e-04, 8.01547114e-04,\n",
              "        1.48602198e-04, 1.85395673e-04, 2.04107103e-04, 3.42546453e-04,\n",
              "        2.60444230e-04, 1.44627233e-04, 2.02997559e-04, 1.15991518e-04,\n",
              "        1.35201204e-04, 1.28719945e-04, 1.87068085e-04, 1.75181554e-03,\n",
              "        8.25230593e-05, 1.79738098e-04, 5.02357847e-05, 1.84502525e-04,\n",
              "        2.19328818e-04, 1.22414361e-04, 6.89144693e-04, 2.87739820e-04]),\n",
              " 'mean_score_time': array([0.04250956, 0.0055656 , 0.04033608, 0.00525432, 0.03831544,\n",
              "        0.00579591, 0.03958201, 0.00637517, 0.04035392, 0.00668249,\n",
              "        0.04221191, 0.00734806, 0.04043927, 0.00549664, 0.03855505,\n",
              "        0.00591369, 0.03572612, 0.00577383, 0.03805408, 0.00735784,\n",
              "        0.04096751, 0.00646863, 0.03878007, 0.00670528, 0.03949513,\n",
              "        0.00553231, 0.03787603, 0.00721269, 0.04258451, 0.00637326,\n",
              "        0.0394547 , 0.00677762, 0.04072094, 0.00708132, 0.04120564,\n",
              "        0.00746646]),\n",
              " 'std_score_time': array([7.53625489e-03, 1.51689792e-04, 2.63502587e-03, 5.35907267e-05,\n",
              "        3.12609745e-03, 1.35216204e-04, 4.26036371e-03, 2.17632972e-04,\n",
              "        2.96673505e-03, 2.10168464e-04, 3.39419622e-03, 6.72495753e-04,\n",
              "        2.17977741e-03, 5.80488298e-04, 2.18078269e-03, 6.53902521e-04,\n",
              "        7.10807757e-04, 6.49994639e-05, 2.57754257e-03, 2.44460438e-03,\n",
              "        5.27680281e-03, 2.71152501e-04, 1.82552990e-03, 2.29204467e-05,\n",
              "        2.16719988e-03, 8.71163871e-05, 2.97421061e-04, 1.44019582e-03,\n",
              "        3.43008968e-03, 1.40576382e-04, 1.26981784e-03, 1.37236899e-04,\n",
              "        1.68605677e-03, 1.60384261e-04, 1.84710705e-03, 1.46139084e-04]),\n",
              " 'param_metric': masked_array(data=['minkowski', 'minkowski', 'minkowski', 'minkowski',\n",
              "                    'minkowski', 'minkowski', 'minkowski', 'minkowski',\n",
              "                    'minkowski', 'minkowski', 'minkowski', 'minkowski',\n",
              "                    'euclidean', 'euclidean', 'euclidean', 'euclidean',\n",
              "                    'euclidean', 'euclidean', 'euclidean', 'euclidean',\n",
              "                    'euclidean', 'euclidean', 'euclidean', 'euclidean',\n",
              "                    'manhattan', 'manhattan', 'manhattan', 'manhattan',\n",
              "                    'manhattan', 'manhattan', 'manhattan', 'manhattan',\n",
              "                    'manhattan', 'manhattan', 'manhattan', 'manhattan'],\n",
              "              mask=[False, False, False, False, False, False, False, False,\n",
              "                    False, False, False, False, False, False, False, False,\n",
              "                    False, False, False, False, False, False, False, False,\n",
              "                    False, False, False, False, False, False, False, False,\n",
              "                    False, False, False, False],\n",
              "        fill_value='?',\n",
              "             dtype=object),\n",
              " 'param_n_neighbors': masked_array(data=[5, 5, 7, 7, 9, 9, 11, 11, 13, 13, 15, 15, 5, 5, 7, 7,\n",
              "                    9, 9, 11, 11, 13, 13, 15, 15, 5, 5, 7, 7, 9, 9, 11, 11,\n",
              "                    13, 13, 15, 15],\n",
              "              mask=[False, False, False, False, False, False, False, False,\n",
              "                    False, False, False, False, False, False, False, False,\n",
              "                    False, False, False, False, False, False, False, False,\n",
              "                    False, False, False, False, False, False, False, False,\n",
              "                    False, False, False, False],\n",
              "        fill_value='?',\n",
              "             dtype=object),\n",
              " 'param_weights': masked_array(data=['uniform', 'distance', 'uniform', 'distance',\n",
              "                    'uniform', 'distance', 'uniform', 'distance',\n",
              "                    'uniform', 'distance', 'uniform', 'distance',\n",
              "                    'uniform', 'distance', 'uniform', 'distance',\n",
              "                    'uniform', 'distance', 'uniform', 'distance',\n",
              "                    'uniform', 'distance', 'uniform', 'distance',\n",
              "                    'uniform', 'distance', 'uniform', 'distance',\n",
              "                    'uniform', 'distance', 'uniform', 'distance',\n",
              "                    'uniform', 'distance', 'uniform', 'distance'],\n",
              "              mask=[False, False, False, False, False, False, False, False,\n",
              "                    False, False, False, False, False, False, False, False,\n",
              "                    False, False, False, False, False, False, False, False,\n",
              "                    False, False, False, False, False, False, False, False,\n",
              "                    False, False, False, False],\n",
              "        fill_value='?',\n",
              "             dtype=object),\n",
              " 'params': [{'metric': 'minkowski', 'n_neighbors': 5, 'weights': 'uniform'},\n",
              "  {'metric': 'minkowski', 'n_neighbors': 5, 'weights': 'distance'},\n",
              "  {'metric': 'minkowski', 'n_neighbors': 7, 'weights': 'uniform'},\n",
              "  {'metric': 'minkowski', 'n_neighbors': 7, 'weights': 'distance'},\n",
              "  {'metric': 'minkowski', 'n_neighbors': 9, 'weights': 'uniform'},\n",
              "  {'metric': 'minkowski', 'n_neighbors': 9, 'weights': 'distance'},\n",
              "  {'metric': 'minkowski', 'n_neighbors': 11, 'weights': 'uniform'},\n",
              "  {'metric': 'minkowski', 'n_neighbors': 11, 'weights': 'distance'},\n",
              "  {'metric': 'minkowski', 'n_neighbors': 13, 'weights': 'uniform'},\n",
              "  {'metric': 'minkowski', 'n_neighbors': 13, 'weights': 'distance'},\n",
              "  {'metric': 'minkowski', 'n_neighbors': 15, 'weights': 'uniform'},\n",
              "  {'metric': 'minkowski', 'n_neighbors': 15, 'weights': 'distance'},\n",
              "  {'metric': 'euclidean', 'n_neighbors': 5, 'weights': 'uniform'},\n",
              "  {'metric': 'euclidean', 'n_neighbors': 5, 'weights': 'distance'},\n",
              "  {'metric': 'euclidean', 'n_neighbors': 7, 'weights': 'uniform'},\n",
              "  {'metric': 'euclidean', 'n_neighbors': 7, 'weights': 'distance'},\n",
              "  {'metric': 'euclidean', 'n_neighbors': 9, 'weights': 'uniform'},\n",
              "  {'metric': 'euclidean', 'n_neighbors': 9, 'weights': 'distance'},\n",
              "  {'metric': 'euclidean', 'n_neighbors': 11, 'weights': 'uniform'},\n",
              "  {'metric': 'euclidean', 'n_neighbors': 11, 'weights': 'distance'},\n",
              "  {'metric': 'euclidean', 'n_neighbors': 13, 'weights': 'uniform'},\n",
              "  {'metric': 'euclidean', 'n_neighbors': 13, 'weights': 'distance'},\n",
              "  {'metric': 'euclidean', 'n_neighbors': 15, 'weights': 'uniform'},\n",
              "  {'metric': 'euclidean', 'n_neighbors': 15, 'weights': 'distance'},\n",
              "  {'metric': 'manhattan', 'n_neighbors': 5, 'weights': 'uniform'},\n",
              "  {'metric': 'manhattan', 'n_neighbors': 5, 'weights': 'distance'},\n",
              "  {'metric': 'manhattan', 'n_neighbors': 7, 'weights': 'uniform'},\n",
              "  {'metric': 'manhattan', 'n_neighbors': 7, 'weights': 'distance'},\n",
              "  {'metric': 'manhattan', 'n_neighbors': 9, 'weights': 'uniform'},\n",
              "  {'metric': 'manhattan', 'n_neighbors': 9, 'weights': 'distance'},\n",
              "  {'metric': 'manhattan', 'n_neighbors': 11, 'weights': 'uniform'},\n",
              "  {'metric': 'manhattan', 'n_neighbors': 11, 'weights': 'distance'},\n",
              "  {'metric': 'manhattan', 'n_neighbors': 13, 'weights': 'uniform'},\n",
              "  {'metric': 'manhattan', 'n_neighbors': 13, 'weights': 'distance'},\n",
              "  {'metric': 'manhattan', 'n_neighbors': 15, 'weights': 'uniform'},\n",
              "  {'metric': 'manhattan', 'n_neighbors': 15, 'weights': 'distance'}],\n",
              " 'split0_test_score': array([0.78977273, 0.77045455, 0.79886364, 0.77727273, 0.80454545,\n",
              "        0.77727273, 0.81136364, 0.78181818, 0.80795455, 0.77954545,\n",
              "        0.80340909, 0.77954545, 0.78977273, 0.77045455, 0.79886364,\n",
              "        0.77727273, 0.80454545, 0.77727273, 0.81136364, 0.78181818,\n",
              "        0.80795455, 0.77954545, 0.80340909, 0.77954545, 0.78977273,\n",
              "        0.77045455, 0.79886364, 0.77727273, 0.80454545, 0.77727273,\n",
              "        0.81136364, 0.78181818, 0.80795455, 0.77954545, 0.80340909,\n",
              "        0.77954545]),\n",
              " 'split1_test_score': array([0.79090909, 0.76136364, 0.7875    , 0.76363636, 0.79090909,\n",
              "        0.76704545, 0.79204545, 0.77272727, 0.79545455, 0.77386364,\n",
              "        0.79659091, 0.775     , 0.79090909, 0.76136364, 0.7875    ,\n",
              "        0.76363636, 0.79090909, 0.76704545, 0.79204545, 0.77272727,\n",
              "        0.79545455, 0.77386364, 0.79659091, 0.775     , 0.79090909,\n",
              "        0.76136364, 0.7875    , 0.76363636, 0.79090909, 0.76704545,\n",
              "        0.79204545, 0.77272727, 0.79545455, 0.77386364, 0.79659091,\n",
              "        0.775     ]),\n",
              " 'split2_test_score': array([0.79772727, 0.76818182, 0.80227273, 0.77840909, 0.8       ,\n",
              "        0.78522727, 0.81477273, 0.78863636, 0.82045455, 0.79204545,\n",
              "        0.82045455, 0.79204545, 0.79772727, 0.76818182, 0.80227273,\n",
              "        0.77840909, 0.8       , 0.78522727, 0.81477273, 0.78863636,\n",
              "        0.82045455, 0.79204545, 0.82045455, 0.79204545, 0.79772727,\n",
              "        0.76818182, 0.80227273, 0.77840909, 0.8       , 0.78522727,\n",
              "        0.81477273, 0.78863636, 0.82045455, 0.79204545, 0.82045455,\n",
              "        0.79204545]),\n",
              " 'split3_test_score': array([0.81477273, 0.77613636, 0.8125    , 0.7875    , 0.81931818,\n",
              "        0.78636364, 0.82045455, 0.78863636, 0.82159091, 0.78977273,\n",
              "        0.82045455, 0.78977273, 0.81477273, 0.77613636, 0.8125    ,\n",
              "        0.7875    , 0.81931818, 0.78636364, 0.82045455, 0.78863636,\n",
              "        0.82159091, 0.78977273, 0.82045455, 0.78977273, 0.81477273,\n",
              "        0.77613636, 0.8125    , 0.7875    , 0.81931818, 0.78636364,\n",
              "        0.82045455, 0.78863636, 0.82159091, 0.78977273, 0.82045455,\n",
              "        0.78977273]),\n",
              " 'split4_test_score': array([0.78977273, 0.75795455, 0.78522727, 0.76022727, 0.80227273,\n",
              "        0.76590909, 0.80454545, 0.76590909, 0.80795455, 0.76704545,\n",
              "        0.80795455, 0.76931818, 0.78977273, 0.75795455, 0.78522727,\n",
              "        0.76022727, 0.80227273, 0.76590909, 0.80454545, 0.76590909,\n",
              "        0.80795455, 0.76704545, 0.80795455, 0.76931818, 0.78977273,\n",
              "        0.75795455, 0.78522727, 0.76022727, 0.80227273, 0.76590909,\n",
              "        0.80454545, 0.76590909, 0.80795455, 0.76704545, 0.80795455,\n",
              "        0.76931818]),\n",
              " 'mean_test_score': array([0.79659091, 0.76681818, 0.79727273, 0.77340909, 0.80340909,\n",
              "        0.77636364, 0.80863636, 0.77954545, 0.81068182, 0.78045455,\n",
              "        0.80977273, 0.78113636, 0.79659091, 0.76681818, 0.79727273,\n",
              "        0.77340909, 0.80340909, 0.77636364, 0.80863636, 0.77954545,\n",
              "        0.81068182, 0.78045455, 0.80977273, 0.78113636, 0.79659091,\n",
              "        0.76681818, 0.79727273, 0.77340909, 0.80340909, 0.77636364,\n",
              "        0.80863636, 0.77954545, 0.81068182, 0.78045455, 0.80977273,\n",
              "        0.78113636]),\n",
              " 'std_test_score': array([0.00956167, 0.00648425, 0.01      , 0.01007718, 0.00920384,\n",
              "        0.00866622, 0.0097648 , 0.00897655, 0.00960479, 0.00943661,\n",
              "        0.00944208, 0.00864234, 0.00956167, 0.00648425, 0.01      ,\n",
              "        0.01007718, 0.00920384, 0.00866622, 0.0097648 , 0.00897655,\n",
              "        0.00960479, 0.00943661, 0.00944208, 0.00864234, 0.00956167,\n",
              "        0.00648425, 0.01      , 0.01007718, 0.00920384, 0.00866622,\n",
              "        0.0097648 , 0.00897655, 0.00960479, 0.00943661, 0.00944208,\n",
              "        0.00864234]),\n",
              " 'rank_test_score': array([16, 34, 13, 31, 10, 28,  7, 25,  1, 22,  4, 19, 16, 34, 13, 31, 10,\n",
              "        28,  7, 25,  1, 22,  4, 19, 16, 34, 13, 31, 10, 28,  7, 25,  1, 22,\n",
              "         4, 19], dtype=int32)}"
            ]
          },
          "metadata": {},
          "execution_count": 61
        }
      ]
    },
    {
      "cell_type": "markdown",
      "source": [
        "## **RBF SVC**\n"
      ],
      "metadata": {
        "id": "JGQlOUimW0VH"
      }
    },
    {
      "cell_type": "code",
      "source": [
        "from sklearn.svm import SVC\n",
        "     \n",
        "\n",
        "model = Pipeline((('scaler',StandardScaler()), ('rbf_svm',SVC(random_state=0, gamma='auto'))))\n",
        "model.fit(X_train,y_train)\n",
        "\n",
        "\n",
        "y_pred=model.predict(X_test)\n",
        "acc=classification_report(y_test, y_pred)\n",
        "print(acc)"
      ],
      "metadata": {
        "colab": {
          "base_uri": "https://localhost:8080/"
        },
        "id": "x9unYFrRW38e",
        "outputId": "d12d341b-6d23-47e4-8d9a-672452bd572d"
      },
      "execution_count": 63,
      "outputs": [
        {
          "output_type": "stream",
          "name": "stdout",
          "text": [
            "              precision    recall  f1-score   support\n",
            "\n",
            "           0       0.85      0.86      0.86       654\n",
            "           1       0.79      0.78      0.79       446\n",
            "\n",
            "    accuracy                           0.83      1100\n",
            "   macro avg       0.82      0.82      0.82      1100\n",
            "weighted avg       0.83      0.83      0.83      1100\n",
            "\n"
          ]
        }
      ]
    },
    {
      "cell_type": "markdown",
      "source": [
        "### **Grid Search**"
      ],
      "metadata": {
        "id": "eJwiQKFNXBfW"
      }
    },
    {
      "cell_type": "code",
      "source": [
        "clf = GridSearchCV(model,{'rbf_svm__C': [1,10,100,1000]})\n",
        "     \n",
        "\n",
        "clf.fit(X_train,y_train)\n",
        "     \n",
        "GridSearchCV(estimator=Pipeline(steps=[('scaler', StandardScaler()),\n",
        "                                       ('rbf_svm',\n",
        "                                        SVC(C=1000, gamma='auto',\n",
        "                                            random_state=0))]),\n",
        "             param_grid={'rbf_svm__C': [1, 10, 100, 1000]})\n",
        "\n",
        "clf.best_params_"
      ],
      "metadata": {
        "colab": {
          "base_uri": "https://localhost:8080/"
        },
        "id": "HDy0FITXW_mi",
        "outputId": "4a6b944b-744d-4599-fd5a-3c1a26a9190f"
      },
      "execution_count": 64,
      "outputs": [
        {
          "output_type": "execute_result",
          "data": {
            "text/plain": [
              "{'rbf_svm__C': 100}"
            ]
          },
          "metadata": {},
          "execution_count": 64
        }
      ]
    },
    {
      "cell_type": "code",
      "source": [
        "model = Pipeline((('scaler',StandardScaler()), ('rbf_svm',SVC(random_state=0,C =1000, gamma='auto'))))\n",
        "model.fit(X_train,y_train)"
      ],
      "metadata": {
        "colab": {
          "base_uri": "https://localhost:8080/",
          "height": 125
        },
        "id": "sy_bqjJaW3-6",
        "outputId": "28769b29-bff8-4635-c418-1ce5de0c1783"
      },
      "execution_count": 65,
      "outputs": [
        {
          "output_type": "execute_result",
          "data": {
            "text/plain": [
              "Pipeline(steps=[('scaler', StandardScaler()),\n",
              "                ('rbf_svm', SVC(C=1000, gamma='auto', random_state=0))])"
            ],
            "text/html": [
              "<style>#sk-container-id-4 {color: black;background-color: white;}#sk-container-id-4 pre{padding: 0;}#sk-container-id-4 div.sk-toggleable {background-color: white;}#sk-container-id-4 label.sk-toggleable__label {cursor: pointer;display: block;width: 100%;margin-bottom: 0;padding: 0.3em;box-sizing: border-box;text-align: center;}#sk-container-id-4 label.sk-toggleable__label-arrow:before {content: \"▸\";float: left;margin-right: 0.25em;color: #696969;}#sk-container-id-4 label.sk-toggleable__label-arrow:hover:before {color: black;}#sk-container-id-4 div.sk-estimator:hover label.sk-toggleable__label-arrow:before {color: black;}#sk-container-id-4 div.sk-toggleable__content {max-height: 0;max-width: 0;overflow: hidden;text-align: left;background-color: #f0f8ff;}#sk-container-id-4 div.sk-toggleable__content pre {margin: 0.2em;color: black;border-radius: 0.25em;background-color: #f0f8ff;}#sk-container-id-4 input.sk-toggleable__control:checked~div.sk-toggleable__content {max-height: 200px;max-width: 100%;overflow: auto;}#sk-container-id-4 input.sk-toggleable__control:checked~label.sk-toggleable__label-arrow:before {content: \"▾\";}#sk-container-id-4 div.sk-estimator input.sk-toggleable__control:checked~label.sk-toggleable__label {background-color: #d4ebff;}#sk-container-id-4 div.sk-label input.sk-toggleable__control:checked~label.sk-toggleable__label {background-color: #d4ebff;}#sk-container-id-4 input.sk-hidden--visually {border: 0;clip: rect(1px 1px 1px 1px);clip: rect(1px, 1px, 1px, 1px);height: 1px;margin: -1px;overflow: hidden;padding: 0;position: absolute;width: 1px;}#sk-container-id-4 div.sk-estimator {font-family: monospace;background-color: #f0f8ff;border: 1px dotted black;border-radius: 0.25em;box-sizing: border-box;margin-bottom: 0.5em;}#sk-container-id-4 div.sk-estimator:hover {background-color: #d4ebff;}#sk-container-id-4 div.sk-parallel-item::after {content: \"\";width: 100%;border-bottom: 1px solid gray;flex-grow: 1;}#sk-container-id-4 div.sk-label:hover label.sk-toggleable__label {background-color: #d4ebff;}#sk-container-id-4 div.sk-serial::before {content: \"\";position: absolute;border-left: 1px solid gray;box-sizing: border-box;top: 0;bottom: 0;left: 50%;z-index: 0;}#sk-container-id-4 div.sk-serial {display: flex;flex-direction: column;align-items: center;background-color: white;padding-right: 0.2em;padding-left: 0.2em;position: relative;}#sk-container-id-4 div.sk-item {position: relative;z-index: 1;}#sk-container-id-4 div.sk-parallel {display: flex;align-items: stretch;justify-content: center;background-color: white;position: relative;}#sk-container-id-4 div.sk-item::before, #sk-container-id-4 div.sk-parallel-item::before {content: \"\";position: absolute;border-left: 1px solid gray;box-sizing: border-box;top: 0;bottom: 0;left: 50%;z-index: -1;}#sk-container-id-4 div.sk-parallel-item {display: flex;flex-direction: column;z-index: 1;position: relative;background-color: white;}#sk-container-id-4 div.sk-parallel-item:first-child::after {align-self: flex-end;width: 50%;}#sk-container-id-4 div.sk-parallel-item:last-child::after {align-self: flex-start;width: 50%;}#sk-container-id-4 div.sk-parallel-item:only-child::after {width: 0;}#sk-container-id-4 div.sk-dashed-wrapped {border: 1px dashed gray;margin: 0 0.4em 0.5em 0.4em;box-sizing: border-box;padding-bottom: 0.4em;background-color: white;}#sk-container-id-4 div.sk-label label {font-family: monospace;font-weight: bold;display: inline-block;line-height: 1.2em;}#sk-container-id-4 div.sk-label-container {text-align: center;}#sk-container-id-4 div.sk-container {/* jupyter's `normalize.less` sets `[hidden] { display: none; }` but bootstrap.min.css set `[hidden] { display: none !important; }` so we also need the `!important` here to be able to override the default hidden behavior on the sphinx rendered scikit-learn.org. See: https://github.com/scikit-learn/scikit-learn/issues/21755 */display: inline-block !important;position: relative;}#sk-container-id-4 div.sk-text-repr-fallback {display: none;}</style><div id=\"sk-container-id-4\" class=\"sk-top-container\"><div class=\"sk-text-repr-fallback\"><pre>Pipeline(steps=[(&#x27;scaler&#x27;, StandardScaler()),\n",
              "                (&#x27;rbf_svm&#x27;, SVC(C=1000, gamma=&#x27;auto&#x27;, random_state=0))])</pre><b>In a Jupyter environment, please rerun this cell to show the HTML representation or trust the notebook. <br />On GitHub, the HTML representation is unable to render, please try loading this page with nbviewer.org.</b></div><div class=\"sk-container\" hidden><div class=\"sk-item sk-dashed-wrapped\"><div class=\"sk-label-container\"><div class=\"sk-label sk-toggleable\"><input class=\"sk-toggleable__control sk-hidden--visually\" id=\"sk-estimator-id-6\" type=\"checkbox\" ><label for=\"sk-estimator-id-6\" class=\"sk-toggleable__label sk-toggleable__label-arrow\">Pipeline</label><div class=\"sk-toggleable__content\"><pre>Pipeline(steps=[(&#x27;scaler&#x27;, StandardScaler()),\n",
              "                (&#x27;rbf_svm&#x27;, SVC(C=1000, gamma=&#x27;auto&#x27;, random_state=0))])</pre></div></div></div><div class=\"sk-serial\"><div class=\"sk-item\"><div class=\"sk-estimator sk-toggleable\"><input class=\"sk-toggleable__control sk-hidden--visually\" id=\"sk-estimator-id-7\" type=\"checkbox\" ><label for=\"sk-estimator-id-7\" class=\"sk-toggleable__label sk-toggleable__label-arrow\">StandardScaler</label><div class=\"sk-toggleable__content\"><pre>StandardScaler()</pre></div></div></div><div class=\"sk-item\"><div class=\"sk-estimator sk-toggleable\"><input class=\"sk-toggleable__control sk-hidden--visually\" id=\"sk-estimator-id-8\" type=\"checkbox\" ><label for=\"sk-estimator-id-8\" class=\"sk-toggleable__label sk-toggleable__label-arrow\">SVC</label><div class=\"sk-toggleable__content\"><pre>SVC(C=1000, gamma=&#x27;auto&#x27;, random_state=0)</pre></div></div></div></div></div></div></div>"
            ]
          },
          "metadata": {},
          "execution_count": 65
        }
      ]
    },
    {
      "cell_type": "code",
      "source": [
        "y_pred=model.predict(X_test)\n",
        "acc=classification_report(y_test, y_pred)\n",
        "print(acc)"
      ],
      "metadata": {
        "colab": {
          "base_uri": "https://localhost:8080/"
        },
        "id": "SwLGCX-CW4BN",
        "outputId": "eb2b64a9-e0b4-44f8-cc30-7c3fb00ae766"
      },
      "execution_count": 66,
      "outputs": [
        {
          "output_type": "stream",
          "name": "stdout",
          "text": [
            "              precision    recall  f1-score   support\n",
            "\n",
            "           0       0.86      0.86      0.86       654\n",
            "           1       0.79      0.79      0.79       446\n",
            "\n",
            "    accuracy                           0.83      1100\n",
            "   macro avg       0.82      0.82      0.82      1100\n",
            "weighted avg       0.83      0.83      0.83      1100\n",
            "\n"
          ]
        }
      ]
    },
    {
      "cell_type": "code",
      "source": [
        "clf.cv_results_"
      ],
      "metadata": {
        "colab": {
          "base_uri": "https://localhost:8080/"
        },
        "id": "ad61-BjhW4Dc",
        "outputId": "3d9826dd-a1a1-4dc9-fbaa-c8ab9274f202"
      },
      "execution_count": 67,
      "outputs": [
        {
          "output_type": "execute_result",
          "data": {
            "text/plain": [
              "{'mean_fit_time': array([0.4914319 , 0.56151195, 1.68384199, 8.54434395]),\n",
              " 'std_fit_time': array([0.09713847, 0.0319285 , 0.32847977, 1.13723189]),\n",
              " 'mean_score_time': array([0.07797704, 0.06059031, 0.09334745, 0.0908618 ]),\n",
              " 'std_score_time': array([0.02240408, 0.00422612, 0.02888024, 0.02856632]),\n",
              " 'param_rbf_svm__C': masked_array(data=[1, 10, 100, 1000],\n",
              "              mask=[False, False, False, False],\n",
              "        fill_value='?',\n",
              "             dtype=object),\n",
              " 'params': [{'rbf_svm__C': 1},\n",
              "  {'rbf_svm__C': 10},\n",
              "  {'rbf_svm__C': 100},\n",
              "  {'rbf_svm__C': 1000}],\n",
              " 'split0_test_score': array([0.80681818, 0.80681818, 0.80681818, 0.81022727]),\n",
              " 'split1_test_score': array([0.81136364, 0.81136364, 0.81136364, 0.81022727]),\n",
              " 'split2_test_score': array([0.83636364, 0.83636364, 0.83863636, 0.83522727]),\n",
              " 'split3_test_score': array([0.83409091, 0.83522727, 0.83522727, 0.83636364]),\n",
              " 'split4_test_score': array([0.80113636, 0.80227273, 0.80227273, 0.80227273]),\n",
              " 'mean_test_score': array([0.81795455, 0.81840909, 0.81886364, 0.81886364]),\n",
              " 'std_test_score': array([0.01448852, 0.01448852, 0.01506871, 0.01413117]),\n",
              " 'rank_test_score': array([4, 3, 1, 1], dtype=int32)}"
            ]
          },
          "metadata": {},
          "execution_count": 67
        }
      ]
    },
    {
      "cell_type": "code",
      "source": [],
      "metadata": {
        "id": "aO7gJgkvXQQq"
      },
      "execution_count": null,
      "outputs": []
    },
    {
      "cell_type": "markdown",
      "source": [
        "# **Light GBM**\n",
        "\n"
      ],
      "metadata": {
        "id": "leifOdExXQah"
      }
    },
    {
      "cell_type": "code",
      "source": [
        "lgbm = LGBMClassifier()\n",
        "model = LGBMClassifier()\n",
        "model.fit(X_train,y_train)\n",
        "     \n",
        "y_pred = model.predict(X_test)\n",
        "acc = classification_report(y_test,y_pred)\n",
        "print(acc)"
      ],
      "metadata": {
        "colab": {
          "base_uri": "https://localhost:8080/"
        },
        "id": "sb74OVAKXUSy",
        "outputId": "13972638-810c-49ce-88de-6c3dbf64d68f"
      },
      "execution_count": 68,
      "outputs": [
        {
          "output_type": "stream",
          "name": "stdout",
          "text": [
            "              precision    recall  f1-score   support\n",
            "\n",
            "           0       0.87      0.84      0.85       654\n",
            "           1       0.77      0.82      0.80       446\n",
            "\n",
            "    accuracy                           0.83      1100\n",
            "   macro avg       0.82      0.83      0.82      1100\n",
            "weighted avg       0.83      0.83      0.83      1100\n",
            "\n"
          ]
        }
      ]
    },
    {
      "cell_type": "code",
      "source": [
        "clf = GridSearchCV(model,dict(num_leaves=[5,10,100,1000],max_depth = [2,3,4,5,6]))\n",
        "     \n",
        "clf.fit(X_train,y_train)\n",
        "     \n",
        "clf.best_params_"
      ],
      "metadata": {
        "colab": {
          "base_uri": "https://localhost:8080/"
        },
        "id": "ao0NK_y1XZi0",
        "outputId": "782d0934-ae65-4090-fea3-8d2abdd75edf"
      },
      "execution_count": 69,
      "outputs": [
        {
          "output_type": "execute_result",
          "data": {
            "text/plain": [
              "{'max_depth': 4, 'num_leaves': 5}"
            ]
          },
          "metadata": {},
          "execution_count": 69
        }
      ]
    },
    {
      "cell_type": "code",
      "source": [
        "model = LGBMClassifier(num_leaves = 100,max_depth = 4)\n",
        "model.fit(X_train,y_train)\n",
        "y_pred = model.predict(X_test)\n",
        "acc = classification_report(y_test,y_pred)\n",
        "print(acc)"
      ],
      "metadata": {
        "colab": {
          "base_uri": "https://localhost:8080/"
        },
        "id": "7ZO8PY71Xb_i",
        "outputId": "ab660e75-bab6-47ef-cfe8-63b29f322f81"
      },
      "execution_count": 70,
      "outputs": [
        {
          "output_type": "stream",
          "name": "stdout",
          "text": [
            "              precision    recall  f1-score   support\n",
            "\n",
            "           0       0.87      0.84      0.85       654\n",
            "           1       0.78      0.82      0.80       446\n",
            "\n",
            "    accuracy                           0.83      1100\n",
            "   macro avg       0.82      0.83      0.83      1100\n",
            "weighted avg       0.83      0.83      0.83      1100\n",
            "\n"
          ]
        }
      ]
    },
    {
      "cell_type": "code",
      "source": [
        "clf.cv_results_"
      ],
      "metadata": {
        "colab": {
          "base_uri": "https://localhost:8080/"
        },
        "id": "c53O3leVXeMO",
        "outputId": "839f6d1e-7247-4431-c8aa-8741e8800f24"
      },
      "execution_count": 71,
      "outputs": [
        {
          "output_type": "execute_result",
          "data": {
            "text/plain": [
              "{'mean_fit_time': array([0.02750416, 0.02489486, 0.02455082, 0.02612462, 0.02755613,\n",
              "        0.02957263, 0.03256087, 0.02965183, 0.03043551, 0.03256707,\n",
              "        0.03577971, 0.03732023, 0.02743635, 0.03602986, 0.0434629 ,\n",
              "        0.0442523 , 0.02844582, 0.03456101, 0.05278463, 0.05120049]),\n",
              " 'std_fit_time': array([0.00260994, 0.00057849, 0.00043223, 0.00207419, 0.00144159,\n",
              "        0.00205328, 0.00402949, 0.00117609, 0.00672678, 0.00024319,\n",
              "        0.00227098, 0.00169806, 0.00175147, 0.00235384, 0.00240331,\n",
              "        0.00313521, 0.00336709, 0.00115647, 0.00254447, 0.00184992]),\n",
              " 'mean_score_time': array([0.00448813, 0.00399356, 0.00399537, 0.00408773, 0.0040576 ,\n",
              "        0.00461125, 0.00466504, 0.00426755, 0.00434542, 0.00492964,\n",
              "        0.00526471, 0.00589428, 0.00405126, 0.00611238, 0.00569205,\n",
              "        0.00570645, 0.00410781, 0.00576591, 0.00699801, 0.00734591]),\n",
              " 'std_score_time': array([7.76950593e-04, 1.13325786e-04, 7.07518371e-05, 3.00460667e-04,\n",
              "        1.74891129e-04, 3.85894299e-04, 3.85819008e-04, 8.93792555e-05,\n",
              "        4.67325229e-04, 7.73205237e-05, 3.43789585e-04, 9.55777883e-04,\n",
              "        6.10797317e-05, 1.23740596e-03, 1.57873244e-04, 1.82826331e-04,\n",
              "        1.68248030e-04, 6.24553129e-04, 2.91549890e-04, 9.51926872e-04]),\n",
              " 'param_max_depth': masked_array(data=[2, 2, 2, 2, 3, 3, 3, 3, 4, 4, 4, 4, 5, 5, 5, 5, 6, 6,\n",
              "                    6, 6],\n",
              "              mask=[False, False, False, False, False, False, False, False,\n",
              "                    False, False, False, False, False, False, False, False,\n",
              "                    False, False, False, False],\n",
              "        fill_value='?',\n",
              "             dtype=object),\n",
              " 'param_num_leaves': masked_array(data=[5, 10, 100, 1000, 5, 10, 100, 1000, 5, 10, 100, 1000,\n",
              "                    5, 10, 100, 1000, 5, 10, 100, 1000],\n",
              "              mask=[False, False, False, False, False, False, False, False,\n",
              "                    False, False, False, False, False, False, False, False,\n",
              "                    False, False, False, False],\n",
              "        fill_value='?',\n",
              "             dtype=object),\n",
              " 'params': [{'max_depth': 2, 'num_leaves': 5},\n",
              "  {'max_depth': 2, 'num_leaves': 10},\n",
              "  {'max_depth': 2, 'num_leaves': 100},\n",
              "  {'max_depth': 2, 'num_leaves': 1000},\n",
              "  {'max_depth': 3, 'num_leaves': 5},\n",
              "  {'max_depth': 3, 'num_leaves': 10},\n",
              "  {'max_depth': 3, 'num_leaves': 100},\n",
              "  {'max_depth': 3, 'num_leaves': 1000},\n",
              "  {'max_depth': 4, 'num_leaves': 5},\n",
              "  {'max_depth': 4, 'num_leaves': 10},\n",
              "  {'max_depth': 4, 'num_leaves': 100},\n",
              "  {'max_depth': 4, 'num_leaves': 1000},\n",
              "  {'max_depth': 5, 'num_leaves': 5},\n",
              "  {'max_depth': 5, 'num_leaves': 10},\n",
              "  {'max_depth': 5, 'num_leaves': 100},\n",
              "  {'max_depth': 5, 'num_leaves': 1000},\n",
              "  {'max_depth': 6, 'num_leaves': 5},\n",
              "  {'max_depth': 6, 'num_leaves': 10},\n",
              "  {'max_depth': 6, 'num_leaves': 100},\n",
              "  {'max_depth': 6, 'num_leaves': 1000}],\n",
              " 'split0_test_score': array([0.81136364, 0.81136364, 0.81136364, 0.81136364, 0.81590909,\n",
              "        0.81136364, 0.81136364, 0.81136364, 0.81022727, 0.81590909,\n",
              "        0.81590909, 0.81590909, 0.81022727, 0.80681818, 0.81477273,\n",
              "        0.81477273, 0.81022727, 0.81022727, 0.81704545, 0.81704545]),\n",
              " 'split1_test_score': array([0.81477273, 0.81477273, 0.81477273, 0.81477273, 0.8125    ,\n",
              "        0.8125    , 0.8125    , 0.8125    , 0.81477273, 0.80681818,\n",
              "        0.80340909, 0.80340909, 0.81477273, 0.80340909, 0.80340909,\n",
              "        0.80340909, 0.81477273, 0.80681818, 0.80340909, 0.80340909]),\n",
              " 'split2_test_score': array([0.83522727, 0.83522727, 0.83522727, 0.83522727, 0.8375    ,\n",
              "        0.83522727, 0.83522727, 0.83522727, 0.83522727, 0.83068182,\n",
              "        0.82840909, 0.82840909, 0.83522727, 0.83295455, 0.82613636,\n",
              "        0.82613636, 0.83522727, 0.83295455, 0.82613636, 0.82613636]),\n",
              " 'split3_test_score': array([0.83636364, 0.83636364, 0.83636364, 0.83636364, 0.83636364,\n",
              "        0.8375    , 0.8375    , 0.8375    , 0.83636364, 0.83977273,\n",
              "        0.8375    , 0.8375    , 0.83636364, 0.8375    , 0.83977273,\n",
              "        0.83977273, 0.83636364, 0.8375    , 0.83977273, 0.83977273]),\n",
              " 'split4_test_score': array([0.80227273, 0.80227273, 0.80227273, 0.80227273, 0.79659091,\n",
              "        0.80227273, 0.80227273, 0.80227273, 0.80681818, 0.80681818,\n",
              "        0.80681818, 0.80681818, 0.80681818, 0.80681818, 0.80227273,\n",
              "        0.80227273, 0.80681818, 0.80681818, 0.81022727, 0.81022727]),\n",
              " 'mean_test_score': array([0.82      , 0.82      , 0.82      , 0.82      , 0.81977273,\n",
              "        0.81977273, 0.81977273, 0.81977273, 0.82068182, 0.82      ,\n",
              "        0.81840909, 0.81840909, 0.82068182, 0.8175    , 0.81727273,\n",
              "        0.81727273, 0.82068182, 0.81886364, 0.81931818, 0.81931818]),\n",
              " 'std_test_score': array([0.0135337 , 0.0135337 , 0.0135337 , 0.0135337 , 0.01545789,\n",
              "        0.01402109, 0.01402109, 0.01402109, 0.01260083, 0.01318574,\n",
              "        0.01288458, 0.01288458, 0.01260083, 0.01459862, 0.01420045,\n",
              "        0.01420045, 0.01260083, 0.01349548, 0.01269476, 0.01269476]),\n",
              " 'rank_test_score': array([ 4,  4,  4,  4,  9,  9,  9,  9,  1,  4, 16, 16,  1, 18, 19, 19,  1,\n",
              "        15, 13, 13], dtype=int32)}"
            ]
          },
          "metadata": {},
          "execution_count": 71
        }
      ]
    },
    {
      "cell_type": "code",
      "source": [],
      "metadata": {
        "id": "1WQU0fAvawcr"
      },
      "execution_count": null,
      "outputs": []
    },
    {
      "cell_type": "code",
      "source": [
        "X_PIL_train, X_PIL_test, y_PIL_train, y_PIL_test=train_test_split(PIL_img_data ,class_name,stratify=class_name,train_size=0.8,random_state=10)"
      ],
      "metadata": {
        "id": "DDbEZdP2awnh"
      },
      "execution_count": 74,
      "outputs": []
    },
    {
      "cell_type": "code",
      "source": [
        "XX=np.asarray(X_PIL_train)\n",
        "YY=np.asarray(y_PIL_train)\n",
        "xx=np.asarray(X_PIL_test)\n",
        "yy=np.asarray(y_PIL_test)\n",
        "xx.shape\n",
        "     "
      ],
      "metadata": {
        "colab": {
          "base_uri": "https://localhost:8080/"
        },
        "id": "ZBMIdxfWawtO",
        "outputId": "e37f1083-7e9b-4b11-d74e-9c264d7f8637"
      },
      "execution_count": 75,
      "outputs": [
        {
          "output_type": "execute_result",
          "data": {
            "text/plain": [
              "(1100, 96, 96, 3)"
            ]
          },
          "metadata": {},
          "execution_count": 75
        }
      ]
    },
    {
      "cell_type": "code",
      "source": [
        "x1=np.swapaxes(XX,1,3)\n",
        "x1=np.swapaxes(x1,2,3)\n",
        "x1.shape"
      ],
      "metadata": {
        "colab": {
          "base_uri": "https://localhost:8080/"
        },
        "id": "5jWOejIEayTd",
        "outputId": "cf6e2d4e-3c56-4e27-81c2-3394ac2ab407"
      },
      "execution_count": 76,
      "outputs": [
        {
          "output_type": "execute_result",
          "data": {
            "text/plain": [
              "(4400, 3, 96, 96)"
            ]
          },
          "metadata": {},
          "execution_count": 76
        }
      ]
    },
    {
      "cell_type": "code",
      "source": [
        "x2=np.swapaxes(xx,1,3)\n",
        "x2=np.swapaxes(x2,2,3)\n",
        "x2.shape"
      ],
      "metadata": {
        "colab": {
          "base_uri": "https://localhost:8080/"
        },
        "id": "QGrGW1qeaz-W",
        "outputId": "023234ea-169c-404b-fcf4-1d39a3dca869"
      },
      "execution_count": 77,
      "outputs": [
        {
          "output_type": "execute_result",
          "data": {
            "text/plain": [
              "(1100, 3, 96, 96)"
            ]
          },
          "metadata": {},
          "execution_count": 77
        }
      ]
    },
    {
      "cell_type": "code",
      "source": [
        "class Dataset(Dataset):\n",
        "    def __init__(self, X,y, transform=None):\n",
        "        super().__init__()\n",
        "        self.X = torch.from_numpy(X).float()\n",
        "        self.y = y\n",
        "        self.transform = transform\n",
        "\n",
        "    def __len__(self):\n",
        "        return len(self.y)\n",
        "\n",
        "    def __getitem__(self, index):\n",
        "        image= self.X[index]\n",
        "        label =self.y[index]\n",
        "        if self.transform is not None:\n",
        "            image = self.transform(image)\n",
        "        return image, label"
      ],
      "metadata": {
        "id": "VqFICUa6a0Gg"
      },
      "execution_count": 78,
      "outputs": []
    },
    {
      "cell_type": "code",
      "source": [
        "batch_size = 128\n",
        "valid_size = 0.1"
      ],
      "metadata": {
        "id": "zmf6EsgYa4Mq"
      },
      "execution_count": 79,
      "outputs": []
    },
    {
      "cell_type": "code",
      "source": [
        "device = torch.device('cuda' if torch.cuda.is_available() else 'cpu')\n",
        "num_epochs = 3\n",
        "num_classes = 2\n",
        "learning_rate = 0.01"
      ],
      "metadata": {
        "id": "b7Xj_jAGa4PM"
      },
      "execution_count": 90,
      "outputs": []
    },
    {
      "cell_type": "code",
      "source": [
        "def create_dataset_PIL(img_folder,labels):\n",
        "    \n",
        "    img_data_array=[]\n",
        "    class_name=[]\n",
        "    for file in range(len(labels)):\n",
        "       \n",
        "            image_path= os.path.join(img_folder,  labels['id'][file]+'.tif')\n",
        "            image= np.array(Image.open(image_path))\n",
        "            image = image.astype('float32')\n",
        "            image /= 255  \n",
        "            img_data_array.append(image)\n",
        "            class_name.append(labels['label'][file])\n",
        "    return img_data_array , class_name\n",
        "PIL_img_data, class_name=create_dataset_PIL(img_folder,labels)"
      ],
      "metadata": {
        "id": "BkMDh9MobNzD"
      },
      "execution_count": 81,
      "outputs": []
    },
    {
      "cell_type": "code",
      "source": [],
      "metadata": {
        "id": "RZ80-2pobZQx"
      },
      "execution_count": null,
      "outputs": []
    },
    {
      "cell_type": "code",
      "source": [
        "trans_train = transforms.Compose([transforms.ToPILImage(), transforms.Pad(64, padding_mode='reflect'),transforms.RandomHorizontalFlip(), \n",
        "                                  transforms.RandomVerticalFlip(), transforms.RandomRotation(20),             \n",
        "                                  transforms.ToTensor(), transforms.Normalize(mean=[0.5, 0.5, 0.5],std=[0.5, 0.5, 0.5])])    \n",
        "\n",
        "trans_valid = transforms.Compose([transforms.ToPILImage(), transforms.Pad(64, padding_mode='reflect'),\n",
        "                                  transforms.ToTensor(), transforms.Normalize(mean=[0.5, 0.5, 0.5],std=[0.5, 0.5, 0.5])])"
      ],
      "metadata": {
        "id": "_t9XWDiBa4ab"
      },
      "execution_count": 85,
      "outputs": []
    },
    {
      "cell_type": "code",
      "source": [
        "dataset_train = Dataset(X=x1, y=y_PIL_train, transform=trans_train)\n",
        "dataset_valid = Dataset(X=x2, y=y_PIL_test, transform=trans_valid)\n",
        "\n",
        "train_loader = DataLoader(dataset = dataset_train, batch_size=batch_size, shuffle=True, num_workers=0)\n",
        "valid_loader = DataLoader(dataset = dataset_valid, batch_size=batch_size//2, shuffle=False, num_workers=0)"
      ],
      "metadata": {
        "id": "KY15YHrCa4b8"
      },
      "execution_count": 86,
      "outputs": []
    },
    {
      "cell_type": "code",
      "source": [
        "\n",
        "class CNN(nn.Module):\n",
        "    def __init__(self):\n",
        "        super(CNN, self).__init__()\n",
        "        self.layer1 = nn.Sequential( nn.Conv2d(3, 32, kernel_size=3, padding=2),\n",
        "                                    nn.BatchNorm2d(32), nn.ReLU(), nn.MaxPool2d(kernel_size=2, stride=2))\n",
        "        \n",
        "        self.layer2 = nn.Sequential(nn.Conv2d( 32, 64, kernel_size=3, padding=2),\n",
        "                    nn.BatchNorm2d(64),nn.ReLU(),nn.MaxPool2d(kernel_size=2, stride=2))\n",
        "        \n",
        "        self.layer3 = nn.Sequential(nn.Conv2d(64, 128, kernel_size=3, padding=2),\n",
        "                                nn.BatchNorm2d(128), nn.ReLU(), nn.MaxPool2d(kernel_size=2, stride=2))\n",
        "        \n",
        "        self.layer4 = nn.Sequential( nn.Conv2d(128, 256, kernel_size=3, padding=2),\n",
        "                                nn.BatchNorm2d(256), nn.ReLU(), nn.MaxPool2d(kernel_size=2, stride=2))\n",
        "        \n",
        "        self.layer5 = nn.Sequential( nn.Conv2d(256, 512, kernel_size=3, padding=2),\n",
        "            nn.BatchNorm2d(512), nn.ReLU(), nn.MaxPool2d(kernel_size=2, stride=2))\n",
        "        \n",
        "        self.avg = nn.AvgPool2d(8)\n",
        "        self.fc = nn.Linear(512 * 1 * 1, 2)\n",
        "        \n",
        "    def forward(self,x):\n",
        "        x = self.layer1(x)\n",
        "        x = self.layer2(x)\n",
        "        x = self.layer3(x)\n",
        "        x = self.layer4(x)\n",
        "        x = self.layer5(x)\n",
        "        x = self.avg(x)\n",
        "        x = x.view(-1, 512 * 1 * 1)\n",
        "        x = self.fc(x)\n",
        "        return x\n",
        "     "
      ],
      "metadata": {
        "id": "LuaNkdZMa4df"
      },
      "execution_count": 91,
      "outputs": []
    },
    {
      "cell_type": "code",
      "source": [
        "device = torch.device('cuda:0' if torch.cuda.is_available() else 'cpu')\n",
        "model = CNN().to(device)\n",
        "print(model)"
      ],
      "metadata": {
        "colab": {
          "base_uri": "https://localhost:8080/"
        },
        "id": "xkPLgPrna4gP",
        "outputId": "2f7e2551-1edb-47e3-8e4a-8032d931f836"
      },
      "execution_count": 88,
      "outputs": [
        {
          "output_type": "stream",
          "name": "stdout",
          "text": [
            "CNN(\n",
            "  (layer1): Sequential(\n",
            "    (0): Conv2d(3, 32, kernel_size=(3, 3), stride=(1, 1), padding=(2, 2))\n",
            "    (1): BatchNorm2d(32, eps=1e-05, momentum=0.1, affine=True, track_running_stats=True)\n",
            "    (2): ReLU()\n",
            "    (3): MaxPool2d(kernel_size=2, stride=2, padding=0, dilation=1, ceil_mode=False)\n",
            "  )\n",
            "  (layer2): Sequential(\n",
            "    (0): Conv2d(32, 64, kernel_size=(3, 3), stride=(1, 1), padding=(2, 2))\n",
            "    (1): BatchNorm2d(64, eps=1e-05, momentum=0.1, affine=True, track_running_stats=True)\n",
            "    (2): ReLU()\n",
            "    (3): MaxPool2d(kernel_size=2, stride=2, padding=0, dilation=1, ceil_mode=False)\n",
            "  )\n",
            "  (layer3): Sequential(\n",
            "    (0): Conv2d(64, 128, kernel_size=(3, 3), stride=(1, 1), padding=(2, 2))\n",
            "    (1): BatchNorm2d(128, eps=1e-05, momentum=0.1, affine=True, track_running_stats=True)\n",
            "    (2): ReLU()\n",
            "    (3): MaxPool2d(kernel_size=2, stride=2, padding=0, dilation=1, ceil_mode=False)\n",
            "  )\n",
            "  (layer4): Sequential(\n",
            "    (0): Conv2d(128, 256, kernel_size=(3, 3), stride=(1, 1), padding=(2, 2))\n",
            "    (1): BatchNorm2d(256, eps=1e-05, momentum=0.1, affine=True, track_running_stats=True)\n",
            "    (2): ReLU()\n",
            "    (3): MaxPool2d(kernel_size=2, stride=2, padding=0, dilation=1, ceil_mode=False)\n",
            "  )\n",
            "  (layer5): Sequential(\n",
            "    (0): Conv2d(256, 512, kernel_size=(3, 3), stride=(1, 1), padding=(2, 2))\n",
            "    (1): BatchNorm2d(512, eps=1e-05, momentum=0.1, affine=True, track_running_stats=True)\n",
            "    (2): ReLU()\n",
            "    (3): MaxPool2d(kernel_size=2, stride=2, padding=0, dilation=1, ceil_mode=False)\n",
            "  )\n",
            "  (avg): AvgPool2d(kernel_size=8, stride=8, padding=0)\n",
            "  (fc): Linear(in_features=512, out_features=2, bias=True)\n",
            ")\n"
          ]
        }
      ]
    },
    {
      "cell_type": "code",
      "source": [
        "\n",
        "criterion = nn.CrossEntropyLoss()\n",
        "\n",
        "\n",
        "optimizer = torch.optim.Adam(model.parameters(),lr=learning_rate)\n",
        "\n",
        "\n",
        "train_losses = []\n",
        "val_losses = []\n",
        "train_auc = []\n",
        "val_auc = []\n",
        "train_auc_epoch = []\n",
        "val_auc_epoch = []\n",
        "best_acc = 0.0\n",
        "min_loss = np.Inf\n",
        "\n",
        "since = time.time()\n",
        "\n",
        "for e in range(num_epochs):\n",
        "    \n",
        "    train_loss = 0.0\n",
        "    val_loss = 0.0\n",
        "    \n",
        "    model.train()\n",
        "    for i, (images, labels) in enumerate(tqdm(train_loader, total=int(len(train_loader)))):\n",
        "        images = images.to(device)\n",
        "        labels = labels.to(device)\n",
        "        \n",
        "        outputs = model(images)\n",
        "        loss = criterion(outputs, labels)\n",
        "        \n",
        "        optimizer.zero_grad()\n",
        "        loss.backward()\n",
        "        optimizer.step()\n",
        "        \n",
        "        train_loss += loss.item()\n",
        "        y_actual = labels.data.cpu().numpy()\n",
        "        y_pred = outputs[:,-1].detach().cpu().numpy()\n",
        "        train_auc.append(roc_auc_score(y_actual, y_pred))\n",
        "    \n",
        "\n",
        "    model.eval()\n",
        "    for i, (images, labels) in enumerate(tqdm(valid_loader, total=int(len(valid_loader)))):\n",
        "        images = images.to(device)\n",
        "        labels = labels.to(device)\n",
        "        \n",
        "        outputs = model(images)\n",
        "        loss = criterion(outputs, labels)\n",
        "        \n",
        "\n",
        "        val_loss += loss.item()\n",
        "        y_actual = labels.data.cpu().numpy()\n",
        "        y_pred = outputs[:,-1].detach().cpu().numpy()\n",
        "        val_auc.append(roc_auc_score(y_actual, y_pred))\n",
        "    \n",
        "    train_loss = train_loss/len(train_loader)\n",
        "    val_loss = val_loss/len(valid_loader)\n",
        "    train_losses.append(train_loss)\n",
        "    val_losses.append(val_loss)\n",
        "    training_auc = np.mean(train_auc)\n",
        "    validation_auc = np.mean(val_auc)\n",
        "    train_auc_epoch.append(training_auc)\n",
        "    val_auc_epoch.append(validation_auc)\n",
        "    \n",
        "\n",
        "    if best_acc < validation_auc:\n",
        "        best_acc = validation_auc\n",
        "        \n",
        "    if min_loss >= val_loss:\n",
        "        torch.save(model.state_dict(), 'best_model.pt')\n",
        "        min_loss = val_loss\n",
        "    \n",
        "    print('EPOCH {}/{} Train loss: {:.6f},Validation loss: {:.6f}, Train AUC: {:.4f}  Validation AUC: {:.4f}\\n  '.format(e+1, num_epochs,train_loss,val_loss, training_auc,validation_auc))\n",
        "    print('-' * 10)\n",
        "time_elapsed = time.time() - since\n",
        "print('Training completed in {:.0f}m {:.0f}s'.format(time_elapsed // 60, time_elapsed % 60))\n",
        "print('Best validation accuracy: {:4f}'.format(best_acc))"
      ],
      "metadata": {
        "colab": {
          "base_uri": "https://localhost:8080/",
          "height": 400,
          "referenced_widgets": [
            "28cb657044694c418bc3b1e05f04cf37",
            "6e6d3891956c45839d7426135e2ccf9d",
            "06d3cd5b2dcb465d90fac3ec451f9acd",
            "9936d4749e834bde854971e0e39cb607",
            "c6778db9e98948bca82c3d290403d3fa",
            "51af31d25df3472c865b3c9768e29145",
            "93a7f68e193f4db4a9a1bf2b2efcb4fe",
            "e6cbb935327b4a899ba9147f69dbdee2",
            "c22a75d03c504bc3a9756079b5472c62",
            "29ecc4a07c814b13a21833fe9b1d972c",
            "304fe9c8c9834127909c1043b99eeb9d",
            "61611d720f774e7ca0b57555876f8b63",
            "c7a824d5ce804615ba2cca2c4fc75512",
            "6d255bd2dc4e413e97b08b1496683d21",
            "ce7f49b2b9f345109638d5661f1fd363",
            "587e9b4910fd4e02b66716b5ba473972",
            "f138d8a6e30343a790c097246ff3fe40",
            "0a72cf7c906d423db67ecbfc936fa118",
            "f07b5e380280442da2a5a775c900e6f7",
            "1790f3ff6ee844a2b839290af0a90f71",
            "9c88446eb3674b6bad9f9cb4ea039110",
            "ea34b5b2a7e049839df1ff5cb03432d8",
            "f79ae64452394792beb7f9288e753e1c",
            "bb05b629b7fe446599c3f7b606c34c17",
            "379757adb2d445ddbd371b26ffb7729f",
            "eb7f92200b8a494fa8a2d45f97b0425a",
            "0ca80cb1452f40dcba3575a475ecf909",
            "223c5e21962c4bde8a77a3a9bda8ff26",
            "6dda3cf9f32d4df2acbd03c261975db8",
            "65f3eada7d6b4285bb4acd8f61784bb7",
            "0ca9daf229274c9788a92061ed26d48b",
            "c920bdbdfeca4a36a8684d2508f3d5b8",
            "91e11b6f7f6d410cb6228d76d3652a2c",
            "acf2b506ac2e4ed881ed2121e4032dbd",
            "60ed9cd6ddae42d3a5a79d07eca292bc",
            "4f9ea4fe631e4ba5b78c09684da15db6",
            "d8f4b99271f84e92aea52235a183b332",
            "4708dc375c644f8fb2e30ad2f519ec2a",
            "1094f473b765452087178589991f9d79",
            "b4b9f8a3831c47f49e5c2ace46c11f9c",
            "2bc7cba818d64f0e8f1a6fd9e83c4342",
            "fb6cb520d59b4e13b3813e7d85e6bedc",
            "0e541ed836d24465b47c44a8535659a3",
            "76fba1db3b9d4d80b6f90d98c60652dd",
            "67c548bf5bea4c7bb508628ed309eea1",
            "907ba058f2744322a368d4fe97452fd4",
            "e3778f11fba34b0c89249499cba7fb8e",
            "9005d44a3a814c51bd3e9fc265bfccbb",
            "fbb6ea6ad0174095ba0924ce3e5cb604",
            "dda228a512de47acb3715af081138ba5",
            "bc51fee2503c4888ae20862dc53ffe91",
            "29ef28f6efce43d7842d3ad82cc2cc2a",
            "9b8285f33cde4805b866f6bbe3ff6fc9",
            "1166b71d9ded44c4994217ce638d4d27",
            "4a252bef438a439284b7d7886352730b",
            "0d48b619bc2d4703937310de21cc429a",
            "118e8e9797b246ca935735ce36357717",
            "ce7a90aa6dd44cdd8901b44eb180175c",
            "012e4b5b9e9342f7a130cbbff45dfb88",
            "c0a9623eea8d4fd3a9bd8bbdb4310122",
            "5a553741ed5a4bb6bd16f645793d43be",
            "e9f112e9a43f4538990aed09d0b78551",
            "9e4f4a032650428799b94767d5eb79a5",
            "07ecdc5735b54211927ee8d1d511493a",
            "a7e1f99d0ea84f57ab8a27930d143f27",
            "49998eed7252496d8730420620708000"
          ]
        },
        "id": "UfxiV3XQa4lV",
        "outputId": "16bd3b0c-e33d-404d-ec6b-2614dea972b7"
      },
      "execution_count": 92,
      "outputs": [
        {
          "output_type": "display_data",
          "data": {
            "text/plain": [
              "  0%|          | 0/35 [00:00<?, ?it/s]"
            ],
            "application/vnd.jupyter.widget-view+json": {
              "version_major": 2,
              "version_minor": 0,
              "model_id": "28cb657044694c418bc3b1e05f04cf37"
            }
          },
          "metadata": {}
        },
        {
          "output_type": "display_data",
          "data": {
            "text/plain": [
              "  0%|          | 0/18 [00:00<?, ?it/s]"
            ],
            "application/vnd.jupyter.widget-view+json": {
              "version_major": 2,
              "version_minor": 0,
              "model_id": "61611d720f774e7ca0b57555876f8b63"
            }
          },
          "metadata": {}
        },
        {
          "output_type": "stream",
          "name": "stdout",
          "text": [
            "EPOCH 1/3 Train loss: 0.536515,Validation loss: 0.833903, Train AUC: 0.8501  Validation AUC: 0.7313\n",
            "  \n",
            "----------\n"
          ]
        },
        {
          "output_type": "display_data",
          "data": {
            "text/plain": [
              "  0%|          | 0/35 [00:00<?, ?it/s]"
            ],
            "application/vnd.jupyter.widget-view+json": {
              "version_major": 2,
              "version_minor": 0,
              "model_id": "f79ae64452394792beb7f9288e753e1c"
            }
          },
          "metadata": {}
        },
        {
          "output_type": "display_data",
          "data": {
            "text/plain": [
              "  0%|          | 0/18 [00:00<?, ?it/s]"
            ],
            "application/vnd.jupyter.widget-view+json": {
              "version_major": 2,
              "version_minor": 0,
              "model_id": "acf2b506ac2e4ed881ed2121e4032dbd"
            }
          },
          "metadata": {}
        },
        {
          "output_type": "stream",
          "name": "stdout",
          "text": [
            "EPOCH 2/3 Train loss: 0.443584,Validation loss: 0.434429, Train AUC: 0.8622  Validation AUC: 0.8042\n",
            "  \n",
            "----------\n"
          ]
        },
        {
          "output_type": "display_data",
          "data": {
            "text/plain": [
              "  0%|          | 0/35 [00:00<?, ?it/s]"
            ],
            "application/vnd.jupyter.widget-view+json": {
              "version_major": 2,
              "version_minor": 0,
              "model_id": "67c548bf5bea4c7bb508628ed309eea1"
            }
          },
          "metadata": {}
        },
        {
          "output_type": "display_data",
          "data": {
            "text/plain": [
              "  0%|          | 0/18 [00:00<?, ?it/s]"
            ],
            "application/vnd.jupyter.widget-view+json": {
              "version_major": 2,
              "version_minor": 0,
              "model_id": "0d48b619bc2d4703937310de21cc429a"
            }
          },
          "metadata": {}
        },
        {
          "output_type": "stream",
          "name": "stdout",
          "text": [
            "EPOCH 3/3 Train loss: 0.425921,Validation loss: 0.629089, Train AUC: 0.8700  Validation AUC: 0.8315\n",
            "  \n",
            "----------\n",
            "Training completed in 67m 16s\n",
            "Best validation accuracy: 0.831522\n"
          ]
        }
      ]
    },
    {
      "cell_type": "code",
      "source": [],
      "metadata": {
        "id": "kpxPG4SBa4pw"
      },
      "execution_count": null,
      "outputs": []
    },
    {
      "cell_type": "code",
      "source": [
        "plt.figure(figsize=(20,5))\n",
        "plt.plot(train_losses, '-o', label=\"train\")\n",
        "plt.plot(val_losses, '-o', label=\"val\")\n",
        "plt.xlabel(\"Epoch\")\n",
        "plt.ylabel(\"Loss\")\n",
        "plt.title(\"Loss change over epoch\")\n",
        "plt.legend()"
      ],
      "metadata": {
        "id": "HIXPVsaSbwyw"
      },
      "execution_count": null,
      "outputs": []
    },
    {
      "cell_type": "code",
      "source": [
        "plt.figure(figsize=(20,5))\n",
        "plt.plot(train_auc_epoch, '-o', label=\"train\")\n",
        "plt.plot(val_auc_epoch, '-o', label=\"val\")\n",
        "plt.xlabel(\"Epoch\")\n",
        "plt.ylabel(\"Accuracy\")\n",
        "plt.title(\"Accuracy over epoch\")\n",
        "plt.legend()\n",
        "     "
      ],
      "metadata": {
        "id": "kw09DGmJbyqW"
      },
      "execution_count": null,
      "outputs": []
    }
  ]
}